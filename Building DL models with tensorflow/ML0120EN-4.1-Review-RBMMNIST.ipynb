{
 "cells": [
  {
   "cell_type": "markdown",
   "metadata": {},
   "source": [
    "<a href=\"https://www.skills.network/?utm_medium=Exinfluencer&utm_source=Exinfluencer&utm_content=000026UJ&utm_term=10006555&utm_id=NA-SkillsNetwork-Channel-SkillsNetworkCoursesIBMDeveloperSkillsNetworkDL0120ENSkillsNetwork20629446-2022-01-01\"><img src=\"https://cf-courses-data.s3.us.cloud-object-storage.appdomain.cloud/IBM-DL0120ENedX/labs/Template%20for%20Instructional%20Hands-on%20Labs/images/IDSNlogo.png\" width=\"400px\" align=\"center\"></a>\n",
    "\n",
    "<h1 align=\"center\"><font size=\"5\">RESTRICTED BOLTZMANN MACHINES</font></h1>\n"
   ]
  },
  {
   "cell_type": "markdown",
   "metadata": {},
   "source": [
    "Estimated time needed: **25** minutes\n"
   ]
  },
  {
   "cell_type": "markdown",
   "metadata": {},
   "source": [
    "<h3>Introduction</h3>\n",
    "<b>Restricted Boltzmann Machine (RBM):</b>  RBMs are shallow neural nets that learn to reconstruct data by themselves in an unsupervised fashion.  \n",
    "\n",
    "<h4>Why are RBMs important?</h4>\n",
    "An RBM are a basic form of autoencoder.  It can automatically extract <b>meaningful</b> features from a given input.\n",
    "\n",
    "<h4>How does it work?</h4>\n",
    "RBM is a 2 layer neural network. Simply, RBM takes the inputs and translates those into a set of binary values that represents them in the hidden layer. Then, these numbers can be translated back to reconstruct the inputs. Through several forward and backward passes, the RBM will be trained, and a trained RBM can reveal which features are the most important ones when detecting patterns.   \n",
    "\n",
    "<h4>What are the applications of an RBM?</h4>\n",
    "RBM is useful for <a href='http://www.cs.utoronto.ca/~hinton/absps/netflixICML.pdf?utm_medium=Exinfluencer&utm_source=Exinfluencer&utm_content=000026UJ&utm_term=10006555&utm_id=NA-SkillsNetwork-Channel-SkillsNetworkCoursesIBMDeveloperSkillsNetworkDL0120ENSkillsNetwork20629446-2022-01-01'>  Collaborative Filtering</a>, dimensionality reduction, classification, regression, feature learning, topic modeling and even <b>Deep Belief Networks</b>.\n",
    "\n",
    "<h4>Is RBM a generative or Discriminative model?</h4>\n",
    "RBM is a generative model. Let me explain it by first, see what is different between discriminative and generative models: \n",
    "\n",
    "<b>Discriminative:</b> Consider a classification problem where we want to learn to distinguish between Sedan cars (y = 1) and SUV cars (y = 0), based on some features of cars. Given a training set, an algorithm like logistic regression tries to find a straight line, or <i>decision boundary</i>, that separates the suv and sedan.\n",
    "\n",
    "<b>Generative:</b> looking at cars, we can build a model of what Sedan cars look like. Then, looking at SUVs, we can build a separate model of what SUV cars look like. Finally, to classify a new car, we can match the new car against the Sedan model, and match it against the SUV model, to see whether the new car looks more like the SUV or Sedan.\n",
    "\n",
    "Generative Models specify a probability distribution over a dataset of input vectors. We can carry out both supervised and unsupervised tasks with generative models:\n",
    "\n",
    "<ul>\n",
    "    <li>In an unsupervised task, we try to form a model for $P(x)$, where $P$ is the probability given $x$ as an input vector.</li>\n",
    "    <li>In the supervised task, we first form a model for $P(x|y)$, where $P$ is the probability of $x$ given $y$(the label for $x$). For example, if $y = 0$ indicates that a car is an SUV, and $y = 1$ indicates that a car is a sedan, then $p(x|y = 0)$ models the distribution of SUV features, and $p(x|y = 1)$ models the distribution of sedan features. If we manage to find $P(x|y)$ and $P(y)$, then we can use <b>Bayes rule</b> to estimate $P(y|x)$, because:   \n",
    "        $$p(y|x) = \\frac{p(x|y)p(y)}{p(x)}$$</li>\n",
    "</ul>\n",
    "Now the question is, can we build a generative model, and then use it to create synthetic data by directly sampling from the modeled probability distributions? Lets see. \n"
   ]
  },
  {
   "cell_type": "markdown",
   "metadata": {},
   "source": [
    "<h2>Table of Contents</h2>\n",
    "<ol>\n",
    "    <li><a href=\"https://#ref1\">Initialization</a></li>\n",
    "    <li><a href=\"https://#ref2\">RBM layers</a></li>\n",
    "    <li><a href=\"https://#ref3\">What RBM can do after training?</a></li>\n",
    "    <li><a href=\"https://#ref4\">How to train the model?</a></li>\n",
    "    <li><a href=\"https://#ref5\">Learned features</a></li>\n",
    "</ol>\n",
    "<p></p>\n",
    "</div>\n",
    "<br>\n",
    "\n",
    "<hr>\n"
   ]
  },
  {
   "cell_type": "markdown",
   "metadata": {},
   "source": [
    "<a id=\"ref1\"></a>\n",
    "\n",
    "<h3>Initialization</h3>\n",
    "\n",
    "First, we have to load the utility file which contains different utility functions that are not connected\n",
    "in any way to the networks presented in the tutorials, but rather help in\n",
    "processing the outputs into a more understandable way.\n"
   ]
  },
  {
   "cell_type": "code",
   "execution_count": 1,
   "metadata": {},
   "outputs": [],
   "source": [
    "import urllib.request\n",
    "with urllib.request.urlopen(\"https://cf-courses-data.s3.us.cloud-object-storage.appdomain.cloud/IBMDeveloperSkillsNetwork-DL0120EN-SkillsNetwork/labs/Week4/data/utils.py\") as url:\n",
    "    response = url.read()\n",
    "target = open('utils.py', 'w')\n",
    "target.write(response.decode('utf-8'))\n",
    "target.close()"
   ]
  },
  {
   "cell_type": "markdown",
   "metadata": {},
   "source": [
    "<h2>Installing TensorFlow </h2>\n",
    "\n",
    "We will installing TensorFlow version 2.2.0 and its required prerequistes.  Also installing pillow\\...\n"
   ]
  },
  {
   "cell_type": "code",
   "execution_count": 2,
   "metadata": {},
   "outputs": [
    {
     "name": "stdout",
     "output_type": "stream",
     "text": [
      "Requirement already satisfied: grpcio==1.24.3 in /home/jupyterlab/conda/envs/python/lib/python3.7/site-packages (1.24.3)\n",
      "Requirement already satisfied: six>=1.5.2 in /home/jupyterlab/conda/envs/python/lib/python3.7/site-packages (from grpcio==1.24.3) (1.16.0)\n",
      "Requirement already satisfied: tensorflow==2.2.0 in /home/jupyterlab/conda/envs/python/lib/python3.7/site-packages (2.2.0)\n",
      "Requirement already satisfied: astunparse==1.6.3 in /home/jupyterlab/conda/envs/python/lib/python3.7/site-packages (from tensorflow==2.2.0) (1.6.3)\n",
      "Requirement already satisfied: h5py<2.11.0,>=2.10.0 in /home/jupyterlab/conda/envs/python/lib/python3.7/site-packages (from tensorflow==2.2.0) (2.10.0)\n",
      "Requirement already satisfied: absl-py>=0.7.0 in /home/jupyterlab/conda/envs/python/lib/python3.7/site-packages (from tensorflow==2.2.0) (1.2.0)\n",
      "Requirement already satisfied: protobuf>=3.8.0 in /home/jupyterlab/conda/envs/python/lib/python3.7/site-packages (from tensorflow==2.2.0) (4.21.5)\n",
      "Requirement already satisfied: keras-preprocessing>=1.1.0 in /home/jupyterlab/conda/envs/python/lib/python3.7/site-packages (from tensorflow==2.2.0) (1.1.2)\n",
      "Requirement already satisfied: grpcio>=1.8.6 in /home/jupyterlab/conda/envs/python/lib/python3.7/site-packages (from tensorflow==2.2.0) (1.24.3)\n",
      "Requirement already satisfied: numpy<2.0,>=1.16.0 in /home/jupyterlab/conda/envs/python/lib/python3.7/site-packages (from tensorflow==2.2.0) (1.21.6)\n",
      "Requirement already satisfied: opt-einsum>=2.3.2 in /home/jupyterlab/conda/envs/python/lib/python3.7/site-packages (from tensorflow==2.2.0) (3.3.0)\n",
      "Requirement already satisfied: scipy==1.4.1 in /home/jupyterlab/conda/envs/python/lib/python3.7/site-packages (from tensorflow==2.2.0) (1.4.1)\n",
      "Requirement already satisfied: google-pasta>=0.1.8 in /home/jupyterlab/conda/envs/python/lib/python3.7/site-packages (from tensorflow==2.2.0) (0.2.0)\n",
      "Requirement already satisfied: gast==0.3.3 in /home/jupyterlab/conda/envs/python/lib/python3.7/site-packages (from tensorflow==2.2.0) (0.3.3)\n",
      "Requirement already satisfied: tensorboard<2.3.0,>=2.2.0 in /home/jupyterlab/conda/envs/python/lib/python3.7/site-packages (from tensorflow==2.2.0) (2.2.2)\n",
      "Requirement already satisfied: wheel>=0.26 in /home/jupyterlab/conda/envs/python/lib/python3.7/site-packages (from tensorflow==2.2.0) (0.37.1)\n",
      "Requirement already satisfied: tensorflow-estimator<2.3.0,>=2.2.0 in /home/jupyterlab/conda/envs/python/lib/python3.7/site-packages (from tensorflow==2.2.0) (2.2.0)\n",
      "Requirement already satisfied: wrapt>=1.11.1 in /home/jupyterlab/conda/envs/python/lib/python3.7/site-packages (from tensorflow==2.2.0) (1.14.1)\n",
      "Requirement already satisfied: six>=1.12.0 in /home/jupyterlab/conda/envs/python/lib/python3.7/site-packages (from tensorflow==2.2.0) (1.16.0)\n",
      "Requirement already satisfied: termcolor>=1.1.0 in /home/jupyterlab/conda/envs/python/lib/python3.7/site-packages (from tensorflow==2.2.0) (2.0.1)\n",
      "Requirement already satisfied: tensorboard-plugin-wit>=1.6.0 in /home/jupyterlab/conda/envs/python/lib/python3.7/site-packages (from tensorboard<2.3.0,>=2.2.0->tensorflow==2.2.0) (1.8.1)\n",
      "Requirement already satisfied: google-auth-oauthlib<0.5,>=0.4.1 in /home/jupyterlab/conda/envs/python/lib/python3.7/site-packages (from tensorboard<2.3.0,>=2.2.0->tensorflow==2.2.0) (0.4.6)\n",
      "Requirement already satisfied: google-auth<2,>=1.6.3 in /home/jupyterlab/conda/envs/python/lib/python3.7/site-packages (from tensorboard<2.3.0,>=2.2.0->tensorflow==2.2.0) (1.35.0)\n",
      "Requirement already satisfied: markdown>=2.6.8 in /home/jupyterlab/conda/envs/python/lib/python3.7/site-packages (from tensorboard<2.3.0,>=2.2.0->tensorflow==2.2.0) (3.4.1)\n",
      "Requirement already satisfied: werkzeug>=0.11.15 in /home/jupyterlab/conda/envs/python/lib/python3.7/site-packages (from tensorboard<2.3.0,>=2.2.0->tensorflow==2.2.0) (2.2.2)\n",
      "Requirement already satisfied: setuptools>=41.0.0 in /home/jupyterlab/conda/envs/python/lib/python3.7/site-packages (from tensorboard<2.3.0,>=2.2.0->tensorflow==2.2.0) (65.3.0)\n",
      "Requirement already satisfied: requests<3,>=2.21.0 in /home/jupyterlab/conda/envs/python/lib/python3.7/site-packages (from tensorboard<2.3.0,>=2.2.0->tensorflow==2.2.0) (2.28.1)\n",
      "Requirement already satisfied: rsa<5,>=3.1.4 in /home/jupyterlab/conda/envs/python/lib/python3.7/site-packages (from google-auth<2,>=1.6.3->tensorboard<2.3.0,>=2.2.0->tensorflow==2.2.0) (4.9)\n",
      "Requirement already satisfied: cachetools<5.0,>=2.0.0 in /home/jupyterlab/conda/envs/python/lib/python3.7/site-packages (from google-auth<2,>=1.6.3->tensorboard<2.3.0,>=2.2.0->tensorflow==2.2.0) (4.2.4)\n",
      "Requirement already satisfied: pyasn1-modules>=0.2.1 in /home/jupyterlab/conda/envs/python/lib/python3.7/site-packages (from google-auth<2,>=1.6.3->tensorboard<2.3.0,>=2.2.0->tensorflow==2.2.0) (0.2.8)\n",
      "Requirement already satisfied: requests-oauthlib>=0.7.0 in /home/jupyterlab/conda/envs/python/lib/python3.7/site-packages (from google-auth-oauthlib<0.5,>=0.4.1->tensorboard<2.3.0,>=2.2.0->tensorflow==2.2.0) (1.3.1)\n",
      "Requirement already satisfied: importlib-metadata>=4.4 in /home/jupyterlab/conda/envs/python/lib/python3.7/site-packages (from markdown>=2.6.8->tensorboard<2.3.0,>=2.2.0->tensorflow==2.2.0) (4.11.4)\n",
      "Requirement already satisfied: charset-normalizer<3,>=2 in /home/jupyterlab/conda/envs/python/lib/python3.7/site-packages (from requests<3,>=2.21.0->tensorboard<2.3.0,>=2.2.0->tensorflow==2.2.0) (2.1.1)\n",
      "Requirement already satisfied: certifi>=2017.4.17 in /home/jupyterlab/conda/envs/python/lib/python3.7/site-packages (from requests<3,>=2.21.0->tensorboard<2.3.0,>=2.2.0->tensorflow==2.2.0) (2022.9.14)\n",
      "Requirement already satisfied: urllib3<1.27,>=1.21.1 in /home/jupyterlab/conda/envs/python/lib/python3.7/site-packages (from requests<3,>=2.21.0->tensorboard<2.3.0,>=2.2.0->tensorflow==2.2.0) (1.26.11)\n",
      "Requirement already satisfied: idna<4,>=2.5 in /home/jupyterlab/conda/envs/python/lib/python3.7/site-packages (from requests<3,>=2.21.0->tensorboard<2.3.0,>=2.2.0->tensorflow==2.2.0) (3.4)\n",
      "Requirement already satisfied: MarkupSafe>=2.1.1 in /home/jupyterlab/conda/envs/python/lib/python3.7/site-packages (from werkzeug>=0.11.15->tensorboard<2.3.0,>=2.2.0->tensorflow==2.2.0) (2.1.1)\n",
      "Requirement already satisfied: typing-extensions>=3.6.4 in /home/jupyterlab/conda/envs/python/lib/python3.7/site-packages (from importlib-metadata>=4.4->markdown>=2.6.8->tensorboard<2.3.0,>=2.2.0->tensorflow==2.2.0) (4.3.0)\n",
      "Requirement already satisfied: zipp>=0.5 in /home/jupyterlab/conda/envs/python/lib/python3.7/site-packages (from importlib-metadata>=4.4->markdown>=2.6.8->tensorboard<2.3.0,>=2.2.0->tensorflow==2.2.0) (3.8.1)\n",
      "Requirement already satisfied: pyasn1<0.5.0,>=0.4.6 in /home/jupyterlab/conda/envs/python/lib/python3.7/site-packages (from pyasn1-modules>=0.2.1->google-auth<2,>=1.6.3->tensorboard<2.3.0,>=2.2.0->tensorflow==2.2.0) (0.4.8)\n",
      "Requirement already satisfied: oauthlib>=3.0.0 in /home/jupyterlab/conda/envs/python/lib/python3.7/site-packages (from requests-oauthlib>=0.7.0->google-auth-oauthlib<0.5,>=0.4.1->tensorboard<2.3.0,>=2.2.0->tensorflow==2.2.0) (3.2.1)\n",
      "Requirement already satisfied: pillow==8.1.0 in /home/jupyterlab/conda/envs/python/lib/python3.7/site-packages (8.1.0)\n"
     ]
    }
   ],
   "source": [
    "!pip install grpcio==1.24.3\n",
    "!pip install tensorflow==2.2.0\n",
    "!pip install pillow==8.1.0"
   ]
  },
  {
   "cell_type": "markdown",
   "metadata": {},
   "source": [
    "<b>Notice:</b> This notebook has been created with TensorFlow version 2.2, and might not work with other versions. Therefore we check:\n"
   ]
  },
  {
   "cell_type": "code",
   "execution_count": 3,
   "metadata": {},
   "outputs": [],
   "source": [
    "import tensorflow as tf\n",
    "from IPython.display import Markdown, display\n",
    "\n",
    "def printmd(string):\n",
    "    display(Markdown('# <span style=\"color:red\">'+string+'</span>'))\n",
    "\n",
    "\n",
    "if not tf.__version__ == '2.2.0':\n",
    "    printmd('<<<<<!!!!! ERROR !!!! please upgrade to TensorFlow 2.2.0, or restart your Kernel (Kernel->Restart & Clear Output)>>>>>')"
   ]
  },
  {
   "cell_type": "markdown",
   "metadata": {},
   "source": [
    "Now, we load in all the packages that we use to create the net including the TensorFlow package:\n"
   ]
  },
  {
   "cell_type": "code",
   "execution_count": 4,
   "metadata": {},
   "outputs": [],
   "source": [
    "import tensorflow as tf\n",
    "import numpy as np\n",
    "\n",
    "from PIL import Image\n",
    "from utils import tile_raster_images\n",
    "import matplotlib.pyplot as plt\n",
    "%matplotlib inline"
   ]
  },
  {
   "cell_type": "markdown",
   "metadata": {},
   "source": [
    "<hr>\n"
   ]
  },
  {
   "cell_type": "markdown",
   "metadata": {},
   "source": [
    "<a id=\"ref2\"></a>\n",
    "\n",
    "<h3>RBM layers</h3>\n",
    "\n",
    "An RBM has two layers. The first layer of the RBM is called the <b>visible</b> (or input layer). Imagine that our toy example, has only vectors with 7 values, so the visible layer must have $V=7$ input nodes.\n",
    "The second layer is the <b>hidden</b> layer, which has $H$ neurons in our case. Each hidden node takes on values of either 0 or 1 (i.e., $h_i = 1$ or $h_i$ = 0), with a probability that is a logistic function of the inputs it receives from the other $V$ visible units, called for example, $p(h_i = 1)$. For our toy sample, we'll use 2 nodes in the hidden layer, so $H = 2$.\n",
    "\n",
    "<center><img src=\"https://ibm.box.com/shared/static/eu26opvcefgls6vnwuo29uwp0nudmokh.png\" alt=\"RBM Model\" style=\"width: 400px;\"></center>\n"
   ]
  },
  {
   "cell_type": "markdown",
   "metadata": {},
   "source": [
    "Each node in the first layer also has a <b>bias</b>. We will denote the bias as $v\\_{bias}$, and this single value is shared among the $V$ visible units.\n",
    "\n",
    "The <b>bias</b> of the second is defined similarly as $h\\_{bias}$, and this single value among the $H$ hidden units.\n"
   ]
  },
  {
   "cell_type": "code",
   "execution_count": 5,
   "metadata": {},
   "outputs": [
    {
     "name": "stderr",
     "output_type": "stream",
     "text": [
      "2022-09-24 14:45:46.562414: W tensorflow/stream_executor/platform/default/dso_loader.cc:55] Could not load dynamic library 'libcuda.so.1'; dlerror: libcuda.so.1: cannot open shared object file: No such file or directory\n",
      "2022-09-24 14:45:46.562475: E tensorflow/stream_executor/cuda/cuda_driver.cc:313] failed call to cuInit: UNKNOWN ERROR (303)\n",
      "2022-09-24 14:45:46.562517: I tensorflow/stream_executor/cuda/cuda_diagnostics.cc:156] kernel driver does not appear to be running on this host (jupyterlab-subinvidhu32): /proc/driver/nvidia/version does not exist\n",
      "2022-09-24 14:45:46.567977: I tensorflow/core/platform/cpu_feature_guard.cc:143] Your CPU supports instructions that this TensorFlow binary was not compiled to use: AVX2 AVX512F FMA\n",
      "2022-09-24 14:45:46.576241: I tensorflow/core/platform/profile_utils/cpu_utils.cc:102] CPU Frequency: 2593900000 Hz\n",
      "2022-09-24 14:45:46.576840: I tensorflow/compiler/xla/service/service.cc:168] XLA service 0x7fb5f0000b20 initialized for platform Host (this does not guarantee that XLA will be used). Devices:\n",
      "2022-09-24 14:45:46.576888: I tensorflow/compiler/xla/service/service.cc:176]   StreamExecutor device (0): Host, Default Version\n"
     ]
    }
   ],
   "source": [
    "v_bias = tf.Variable(tf.zeros([7]), tf.float32)\n",
    "h_bias = tf.Variable(tf.zeros([2]), tf.float32)"
   ]
  },
  {
   "cell_type": "markdown",
   "metadata": {},
   "source": [
    "We have to define weights among the input layer and hidden layer nodes. In the weight matrix, the number of rows are equal to the input nodes, and the number of columns are equal to the output nodes. We define a tensor $\\mathbf{W}$ of shape = (7,2), where the number of visible neurons = 7, and the number of hidden neurons = 2.\n"
   ]
  },
  {
   "cell_type": "code",
   "execution_count": 6,
   "metadata": {},
   "outputs": [],
   "source": [
    "W = tf.constant(np.random.normal(loc=0.0, scale=1.0, size=(7, 2)).astype(np.float32))"
   ]
  },
  {
   "cell_type": "markdown",
   "metadata": {},
   "source": [
    "<hr>\n"
   ]
  },
  {
   "cell_type": "markdown",
   "metadata": {},
   "source": [
    "<a id=\"ref3\"></a>\n",
    "\n",
    "<h3>What RBM can do after training?</h3>\n",
    "Think of RBM as a model that has been trained based on images of a dataset of many SUV and sedan cars. Also, imagine that the RBM network has only two hidden nodes, where one node encodes the weight and, and the other encodes the size.  \n",
    "In a sense, the different configurations represent different cars, where one is an SUV and the other is Sedan.  In a training process, through many forward and backward passes, the RBM adjust its weights to send a stronger signal to either the SUV node (0, 1) or the sedan node (1, 0) in the hidden layer, given the pixels of images. Now, given an SUV in hidden layer, which distribution of pixels should we expect? RBM can give you 2 things. First, it encodes your images in hidden layer. Second, it gives you the probability of observing a case, given some hidden values.\n",
    "\n",
    "<h3>The Inference Process</h3>\n",
    "\n",
    "RBM has two phases:\n",
    "\n",
    "<ul>\n",
    "    <li>Forward Pass</li>  \n",
    "    <li>Backward Pass or Reconstruction</li>\n",
    "</ul>\n",
    "\n",
    "<b>Phase 1) Forward pass:</b>\n",
    "\n",
    "Input one training sample (one image) $\\mathbf{x}$ through all visible nodes, and pass it to all hidden nodes. Processing happens in each node in the hidden layer. This computation begins by making stochastic decisions about whether to transmit that input or not (i.e. to determine the state of each hidden layer).  First, the probability vector is computed using the input feature vector $\\mathbf{x}$, the weight matrix $\\mathbf{W}$, and the bias term $h\\_{bias}$, as\n",
    "\n",
    "$$p({h_j}|\\mathbf x)= \\sigma( \\sum\\_{i=1}^V W\\_{ij} x_i + h\\_{bias} )$$,\n",
    "\n",
    "where $\\sigma(z) = (1+e^{-z})^{-1}$ is the logistic function.\n",
    "\n",
    "So, what does $p({h_j})$ represent? It is the <b>probability distribution</b> of the hidden units. That is, RBM uses inputs $x_i$ to make predictions about hidden node activations. For example, imagine that the hidden node activation values are \\[0.51 0.84] for the first training item. It tells you that the conditional probability for each hidden neuron for Phase 1 is:\n",
    "\n",
    "$$p(h\\_{1} = 1|\\mathbf{v}) = 0.51$$\n",
    "$$p(h\\_{2} = 1|\\mathbf{v}) = 0.84$$\n",
    "\n",
    "As a result, for each row in the training set, vector of probabilities is generated.  In TensorFlow, this is referred to as a `tensor` with a shape of (1,2).\n",
    "\n",
    "We then turn unit $j$ with probability $p(h\\_{j}|\\mathbf{v})$, and turn it off with probability $1 - p(h\\_{j}|\\mathbf{v})$ by generating a uniform random number vector $\\mathbf{\\xi}$, and comparing it to the activation probability as\n",
    "\n",
    "<center>If $\\xi_j>p(h_{j}|\\mathbf{v})$, then $h_j=1$, else $h_j=0$.</center>\n",
    "\n",
    "Therefore, the conditional probability of a configuration of $\\mathbf{h}$ given $\\mathbf{v}$ (for a training sample) is:\n",
    "\n",
    "$$p(\\mathbf{h} \\mid \\mathbf{v}) = \\prod\\_{j=1}^H p(h_j \\mid \\mathbf{v})$$\n",
    "\n",
    "where $H$ is the number of hidden units.\n"
   ]
  },
  {
   "cell_type": "markdown",
   "metadata": {},
   "source": [
    "Before we go further, let's look at a toy example for one case out of all input. Assume that we have a trained RBM, and a very simple input vector, such as \\[1.0, 0.0, 0.0, 1.0, 0.0, 0.0, 0.0].\\\n",
    "Let's see what the output of forward pass would look like:\n"
   ]
  },
  {
   "cell_type": "code",
   "execution_count": 7,
   "metadata": {},
   "outputs": [
    {
     "name": "stdout",
     "output_type": "stream",
     "text": [
      "Input:  tf.Tensor([[1. 0. 0. 1. 0. 0. 0.]], shape=(1, 7), dtype=float32)\n",
      "hb:  tf.Tensor([0.1 0.1], shape=(2,), dtype=float32)\n",
      "w:  tf.Tensor(\n",
      "[[ 0.6901852   1.0314628 ]\n",
      " [-0.76563275 -0.8858765 ]\n",
      " [ 0.6784367   0.28231496]\n",
      " [ 0.34265646  0.71950406]\n",
      " [ 0.03791074 -0.96182257]\n",
      " [-1.1288229  -0.8885813 ]\n",
      " [ 0.5946534  -0.45674852]], shape=(7, 2), dtype=float32)\n",
      "p(h|v):  tf.Tensor([[0.7563629 0.8642406]], shape=(1, 2), dtype=float32)\n",
      "h0 states: tf.Tensor([[1. 1.]], shape=(1, 2), dtype=float32)\n"
     ]
    }
   ],
   "source": [
    "X = tf.constant([[1.0, 0.0, 0.0, 1.0, 0.0, 0.0, 0.0]], tf.float32)\n",
    "\n",
    "v_state = X\n",
    "print (\"Input: \", v_state)\n",
    "\n",
    "h_bias = tf.constant([0.1, 0.1])\n",
    "print (\"hb: \", h_bias)\n",
    "print (\"w: \", W)\n",
    "\n",
    "# Calculate the probabilities of turning the hidden units on:\n",
    "h_prob = tf.nn.sigmoid(tf.matmul(v_state, W) + h_bias)  #probabilities of the hidden units\n",
    "print (\"p(h|v): \", h_prob)\n",
    "\n",
    "# Draw samples from the distribution:\n",
    "h_state = tf.nn.relu(tf.sign(h_prob - tf.random.uniform(tf.shape(h_prob)))) #states\n",
    "print (\"h0 states:\", h_state)"
   ]
  },
  {
   "cell_type": "markdown",
   "metadata": {},
   "source": [
    "<b>Phase 2) Backward Pass (Reconstruction):</b>\n",
    "The RBM reconstructs data by making several forward and backward passes between the visible and hidden layers.\n",
    "\n",
    "So, in the second phase (i.e. reconstruction phase), the samples from the hidden layer (i.e. $\\mathbf h$) becomes the input in the backward pass. The same weight matrix and visible layer biases are used to passed to the sigmoid function. The reproduced output is a reconstruction which is an approximation of the original input.\n"
   ]
  },
  {
   "cell_type": "code",
   "execution_count": 8,
   "metadata": {},
   "outputs": [
    {
     "name": "stdout",
     "output_type": "stream",
     "text": [
      "b:  tf.Tensor([0.1 0.2 0.1 0.1 0.1 0.2 0.1], shape=(7,), dtype=float32)\n",
      "p(vi∣h):  tf.Tensor(\n",
      "[[0.8607638  0.18976939 0.74283415 0.76172507 0.30493394 0.13974567\n",
      "  0.5591973 ]], shape=(1, 7), dtype=float32)\n",
      "v probability states:  tf.Tensor([[1. 1. 1. 0. 1. 0. 0.]], shape=(1, 7), dtype=float32)\n"
     ]
    }
   ],
   "source": [
    "vb = tf.constant([0.1, 0.2, 0.1, 0.1, 0.1, 0.2, 0.1])\n",
    "print (\"b: \", vb)\n",
    "v_prob = tf.nn.sigmoid(tf.matmul(h_state, tf.transpose(W)) + vb)\n",
    "print (\"p(vi∣h): \", v_prob)\n",
    "v_state = tf.nn.relu(tf.sign(v_prob - tf.random.uniform(tf.shape(v_prob))))\n",
    "print (\"v probability states: \", v_state)"
   ]
  },
  {
   "cell_type": "markdown",
   "metadata": {},
   "source": [
    "RBM learns a probability distribution over the input, and then, after being trained, the RBM can generate new samples from the learned probability distribution. As you know, <b>probability distribution</b>, is a mathematical function that provides the probabilities of occurrence of different possible outcomes in an experiment.\n",
    "\n",
    "The (conditional) probability distribution over the visible units v is given by\n",
    "\n",
    "$$p(\\mathbf{v} \\mid \\mathbf{h}) = \\prod\\_{i=1}^V p(v_i \\mid \\mathbf{h}),$$\n",
    "\n",
    "where,\n",
    "\n",
    "$$p(v_i \\mid \\mathbf{h}) = \\sigma\\left(\\sum\\_{j=1}^H W\\_{ji} h_j + v\\_{bias} \\right)$$\n",
    "\n",
    "so, given current state of hidden units and weights, what is the probability of generating \\[1. 0. 0. 1. 0. 0. 0.] in reconstruction phase, based on the above <b>probability distribution</b> function?\n"
   ]
  },
  {
   "cell_type": "code",
   "execution_count": 9,
   "metadata": {},
   "outputs": [
    {
     "name": "stdout",
     "output_type": "stream",
     "text": [
      "input X: [[1. 0. 0. 1. 0. 0. 0.]]\n",
      "probablity vector: [0.8607638  0.18976939 0.74283415 0.76172507 0.30493394 0.13974567\n",
      " 0.5591973 ]\n",
      "probability of generating X:  0.036008198\n"
     ]
    }
   ],
   "source": [
    "inp = X\n",
    "print(\"input X:\" , inp.numpy())\n",
    "\n",
    "print(\"probablity vector:\" , v_prob[0].numpy())\n",
    "v_probability = 1\n",
    "\n",
    "for elm, p in zip(inp[0],v_prob[0]) :\n",
    "    if elm ==1:\n",
    "        v_probability *= p\n",
    "    else:\n",
    "        v_probability *= (1-p)\n",
    "\n",
    "print(\"probability of generating X: \" , v_probability.numpy())"
   ]
  },
  {
   "cell_type": "markdown",
   "metadata": {},
   "source": [
    "How similar are vectors $\\mathbf{x}$ and $\\mathbf{v}$? Of course, the reconstructed values most likely will not look anything like the input vector, because our network has not been trained yet. Our objective is to train the model in such a way that the input vector and reconstructed vector to be same. Therefore, based on how different the input values look to the ones that we just reconstructed, the weights are adjusted.\n"
   ]
  },
  {
   "cell_type": "markdown",
   "metadata": {},
   "source": [
    "<hr>\n"
   ]
  },
  {
   "cell_type": "markdown",
   "metadata": {},
   "source": [
    "<h2>MNIST</h2>\n"
   ]
  },
  {
   "cell_type": "markdown",
   "metadata": {},
   "source": [
    "We will be using the MNIST dataset to practice the usage of RBMs. The following cell loads the MNIST dataset.\n"
   ]
  },
  {
   "cell_type": "code",
   "execution_count": 10,
   "metadata": {},
   "outputs": [
    {
     "name": "stdout",
     "output_type": "stream",
     "text": [
      "Downloading data from https://storage.googleapis.com/tensorflow/tf-keras-datasets/mnist.npz\n",
      "11493376/11490434 [==============================] - 1s 0us/step\n"
     ]
    }
   ],
   "source": [
    "#loading training and test data\n",
    "mnist = tf.keras.datasets.mnist\n",
    "(trX, trY), (teX, teY) = mnist.load_data()\n",
    "\n",
    "# showing an example of the Flatten class and operation\n",
    "from tensorflow.keras.layers import Flatten\n",
    "flatten = Flatten(dtype='float32')\n",
    "trX = flatten(trX/255.0)\n",
    "trY = flatten(trY/255.0)"
   ]
  },
  {
   "cell_type": "markdown",
   "metadata": {},
   "source": [
    "Lets look at the dimension of the images.\n"
   ]
  },
  {
   "cell_type": "markdown",
   "metadata": {},
   "source": [
    "MNIST images have 784 pixels, so the visible layer must have 784 input nodes.  For our case, we'll use 50 nodes in the hidden layer, so i = 50.\n"
   ]
  },
  {
   "cell_type": "code",
   "execution_count": 11,
   "metadata": {},
   "outputs": [],
   "source": [
    "vb = tf.Variable(tf.zeros([784]), tf.float32)\n",
    "hb = tf.Variable(tf.zeros([50]), tf.float32)"
   ]
  },
  {
   "cell_type": "markdown",
   "metadata": {},
   "source": [
    "Let $\\mathbf W$ be the Tensor of 784x50 (784 - number of visible neurons, 50 - number of hidden neurons) that represents weights between the neurons.\n"
   ]
  },
  {
   "cell_type": "code",
   "execution_count": 12,
   "metadata": {},
   "outputs": [],
   "source": [
    "W = tf.Variable(tf.zeros([784,50]), tf.float32)"
   ]
  },
  {
   "cell_type": "markdown",
   "metadata": {},
   "source": [
    "Lets define the visible layer:\n"
   ]
  },
  {
   "cell_type": "code",
   "execution_count": 13,
   "metadata": {},
   "outputs": [
    {
     "data": {
      "text/plain": [
       "<tf.Tensor: shape=(1, 50), dtype=float32, numpy=\n",
       "array([[0., 0., 0., 0., 0., 0., 0., 0., 0., 0., 0., 0., 0., 0., 0., 0.,\n",
       "        0., 0., 0., 0., 0., 0., 0., 0., 0., 0., 0., 0., 0., 0., 0., 0.,\n",
       "        0., 0., 0., 0., 0., 0., 0., 0., 0., 0., 0., 0., 0., 0., 0., 0.,\n",
       "        0., 0.]], dtype=float32)>"
      ]
     },
     "execution_count": 13,
     "metadata": {},
     "output_type": "execute_result"
    }
   ],
   "source": [
    "v0_state = tf.Variable(tf.zeros([784]), tf.float32)\n",
    "\n",
    "#testing to see if the matrix product works\n",
    "tf.matmul( [v0_state], W)"
   ]
  },
  {
   "cell_type": "markdown",
   "metadata": {},
   "source": [
    "Now, we can define hidden layer:\n"
   ]
  },
  {
   "cell_type": "code",
   "execution_count": 14,
   "metadata": {},
   "outputs": [
    {
     "name": "stdout",
     "output_type": "stream",
     "text": [
      "h0_state shape:  tf.Tensor([ 1 50], shape=(2,), dtype=int32)\n",
      "first 15 hidden states:  tf.Tensor([1. 0. 1. 1. 1. 1. 1. 0. 0. 1. 0. 1. 0. 1. 1.], shape=(15,), dtype=float32)\n"
     ]
    }
   ],
   "source": [
    "#computing the hidden nodes probability vector and checking shape\n",
    "h0_prob = tf.nn.sigmoid(tf.matmul([v0_state], W) + hb)  #probabilities of the hidden units\n",
    "print(\"h0_state shape: \" , tf.shape(h0_prob))\n",
    "\n",
    "#defining a function to return only the generated hidden states \n",
    "def hidden_layer(v0_state, W, hb):\n",
    "    h0_prob = tf.nn.sigmoid(tf.matmul([v0_state], W) + hb)  #probabilities of the hidden units\n",
    "    h0_state = tf.nn.relu(tf.sign(h0_prob - tf.random.uniform(tf.shape(h0_prob)))) #sample_h_given_X\n",
    "    return h0_state\n",
    "\n",
    "\n",
    "h0_state = hidden_layer(v0_state, W, hb)\n",
    "print(\"first 15 hidden states: \", h0_state[0][0:15])"
   ]
  },
  {
   "cell_type": "markdown",
   "metadata": {},
   "source": [
    "Now, we define reconstruction part:\n"
   ]
  },
  {
   "cell_type": "code",
   "execution_count": 15,
   "metadata": {},
   "outputs": [
    {
     "name": "stdout",
     "output_type": "stream",
     "text": [
      "hidden state shape:  (1, 50)\n",
      "v0 state shape:   (784,)\n",
      "v1 state shape:   (784,)\n"
     ]
    }
   ],
   "source": [
    "def reconstructed_output(h0_state, W, vb):\n",
    "    v1_prob = tf.nn.sigmoid(tf.matmul(h0_state, tf.transpose(W)) + vb) \n",
    "    v1_state = tf.nn.relu(tf.sign(v1_prob - tf.random.uniform(tf.shape(v1_prob)))) #sample_v_given_h\n",
    "    return v1_state[0]\n",
    "\n",
    "v1_state = reconstructed_output(h0_state, W, vb)\n",
    "print(\"hidden state shape: \", h0_state.shape)\n",
    "print(\"v0 state shape:  \", v0_state.shape)\n",
    "print(\"v1 state shape:  \", v1_state.shape)"
   ]
  },
  {
   "cell_type": "markdown",
   "metadata": {},
   "source": [
    "<h3>What is the objective function?</h3>\n",
    "\n",
    "<b>Goal</b>: Maximize the likelihood of our data being drawn from that distribution\n",
    "\n",
    "<b>Calculate error:</b>\\\n",
    "In each epoch, we compute the \"error\" as a sum of the squared difference between step 1 and step n,\n",
    "e.g the error shows the difference between the data and its reconstruction.\n",
    "\n",
    "<b>Note:</b> tf.reduce_mean computes the mean of elements across dimensions of a tensor.\n"
   ]
  },
  {
   "cell_type": "code",
   "execution_count": 16,
   "metadata": {},
   "outputs": [
    {
     "name": "stdout",
     "output_type": "stream",
     "text": [
      "error 0.53061223\n"
     ]
    }
   ],
   "source": [
    "def error(v0_state, v1_state):\n",
    "    return tf.reduce_mean(tf.square(v0_state - v1_state))\n",
    "\n",
    "err = tf.reduce_mean(tf.square(v0_state - v1_state))\n",
    "print(\"error\" , err.numpy())"
   ]
  },
  {
   "cell_type": "markdown",
   "metadata": {},
   "source": [
    "<a id=\"ref4\"></a>\n",
    "\n",
    "<h3>Training the Model</h3>\n",
    "<b>Warning...</b> The following part is math-heavy, but you can skip it if you just want to run the cells in the next section.\n",
    "\n",
    "As mentioned, we want to give a high probability to the input data we train on. So, in order to train an RBM, we have to maximize the product of probabilities assigned to all rows $\\mathbf{v}$ (images) in the training set $\\mathbf{V}$ (a matrix, where each row of it is treated as a visible vector $\\mathbf{v}$)\n",
    "\n",
    "$$\\arg \\max_W \\prod\\_{\\mathbf{v}\\in\\mathbf{V}\\_T} p(\\mathbf{v})$$\n",
    "\n",
    "which is equivalent to maximizing the expectation of the log probability, given as\n",
    "\n",
    "$$\\arg\\max_W\\left\\[ \\mathbb{E} \\left(\\prod\\_{\\mathbf v\\in \\mathbf V}\\text{log} \\left(p(\\mathbf v)\\right) \\right) \\right].$$\n",
    "\n",
    "So, we have to update the weights $W\\_{ij}$  to increase $p(\\mathbf{v})$ for all $\\mathbf{v}$ in our training data during training. So we have to calculate the derivative:\n",
    "\n",
    "$$\\frac{\\partial \\log p(\\mathbf v)}{\\partial W\\_{ij}}$$\n",
    "\n",
    "This cannot be easily done by typical <b>gradient descent (SGD)</b>, so we can use another approach, which has 2 steps:\n",
    "\n",
    "<ol>\n",
    "    <li>Gibbs Sampling</li>\n",
    "    <li>Contrastive Divergence</li>\n",
    "</ol>    \n",
    "\n",
    "<h3>Gibbs Sampling</h3>   \n",
    "\n",
    "<h4>Gibbs Sampling Step 1</h4> \n",
    "Given an input vector $\\mathbf{v}$, we are using $p(\\mathbf{h}|\\mathbf{v})$ to predict the hidden values $\\mathbf{h}$. \n",
    "  $$p({h_j}|\\mathbf v)= \\sigma\\left(\\sum_{i=1}^V W_{ij} v_i + h_{bias} \\right)$$\n",
    "The samples are generated from this distribution by generating the uniform random variate vector $\\mathbf{\\xi} \\sim U[0,1]$ of length $H$ and comparing to the computed probabilities as\n",
    "\n",
    "<center>If $\\xi_j>p(h_{j}|\\mathbf{v})$, then $h_j=1$, else $h_j=0$.</center>\n",
    "\n",
    "<h4>Gibbs Sampling Step 2</h4> \n",
    "Then, knowing the hidden values, we use $p(\\mathbf v| \\mathbf h)$ for reconstructing of new input values v. \n",
    "\n",
    "$$p({v_i}|\\mathbf h)= \\sigma\\left(\\sum\\_{j=1}^H W^{T}*{ij} h_j + v*{bias} \\right)$$\n",
    "\n",
    "The samples are generated from this distribution by generating a uniform random variate vector $\\mathbf{\\xi} \\sim U\\[0,1]$ of length $V$ and comparing to the computed probabilities as\n",
    "\n",
    "<center>If $\\xi_i>p(v_{i}|\\mathbf{h})$, then $v_i=1$, else $v_i=0$.</center>\n",
    "\n",
    "Let vectors $\\mathbf v_k$ and $\\mathbf h_k$ be for the $k$th iteration.  In general, the $kth$ state is generrated as:\n",
    "\n",
    "<b>Iteration</b> $k$:\n",
    "\n",
    "$$\\mathbf v\\_{k-1} \\Rightarrow p(\\mathbf h\\_{k-1}|\\mathbf v\\_{k-1})\\Rightarrow \\mathbf h\\_{k-1}\\Rightarrow p(\\mathbf v\\_{k}|\\mathbf h\\_{k-1})\\Rightarrow \\mathbf v_k$$\n",
    "\n",
    "<h3>Contrastive Divergence (CD-k)</h3>\n",
    "The update of the weight matrix is done during the Contrastive Divergence step. \n",
    "\n",
    "Vectors v0 and vk are used to calculate the activation probabilities for hidden values h0 and hk. The difference between the outer products of those probabilities with input vectors v0 and vk results in the update matrix:\n",
    "\n",
    "$$\\Delta \\mathbf W_k =\\mathbf v_k \\otimes \\mathbf h_k - \\mathbf v\\_{k-1} \\otimes \\mathbf h\\_{k-1}$$\n",
    "\n",
    "Contrastive Divergence is actually matrix of values that is computed and used to adjust values of the $\\mathbf W$ matrix. Changing $\\mathbf W$ incrementally leads to training of the  $\\mathbf W$ values. Then, on each step (epoch), $\\mathbf W$ is updated using the following:\n",
    "\n",
    "$$\\mathbf W_k = \\mathbf W\\_{k-1} + \\alpha \\* \\Delta \\mathbf W_k$$\n",
    "\n",
    "Reconstruction steps:\n",
    "\n",
    "<ul>\n",
    "    <li> Get one data point from data set, like <i>x</i>, and pass it through the following steps:</li>\n",
    "\n",
    "<b>Iteration</b> $k=1$:\n",
    "\n",
    "Sampling (starting with input image)\n",
    "$$\\mathbf x = \\mathbf v\\_0 \\Rightarrow p(\\mathbf h\\_0|\\mathbf v\\_0)\\Rightarrow \\mathbf h\\_0 \\Rightarrow p(\\mathbf v\\_1|\\mathbf h\\_0)\\Rightarrow \\mathbf v\\_1$$\\\n",
    "followed by the CD-k step\n",
    "$$\\Delta \\mathbf W\\_1 =\\mathbf v\\_1 \\otimes \\mathbf h\\_1 - \\mathbf v\\_{0} \\otimes \\mathbf h\\_{0}$$\\\n",
    "$$\\mathbf W\\_1 = \\mathbf W\\_{0} + \\alpha \\* \\Delta \\mathbf W\\_1$$\n",
    "\n",
    "<li> $\\mathbf v_1$ is the reconstruction of $\\mathbf x$ sent to the next iteration).</li>\n",
    "\n",
    "<b>Iteration</b> $k=2$:\n",
    "\n",
    "Sampling (starting with $\\mathbf v\\_1$)\n",
    "\n",
    "$$\\mathbf v\\_1 \\Rightarrow p(\\mathbf h\\_1|\\mathbf v\\_1)\\Rightarrow \\mathbf h\\_1\\Rightarrow p(\\mathbf v\\_2|\\mathbf h\\_1)\\Rightarrow \\mathbf v\\_2$$\n",
    "\n",
    "followed by the CD-k step\n",
    "$$\\Delta \\mathbf W\\_2 =\\mathbf v\\_2 \\otimes \\mathbf h\\_2 - \\mathbf v\\_{1} \\otimes \\mathbf h\\_{1}$$\\\n",
    "$$\\mathbf W\\_2 = \\mathbf W\\_{1} + \\alpha \\* \\Delta \\mathbf W\\_2$$\n",
    "\n",
    "<li> $\\mathbf v_2$ is the reconstruction of $\\mathbf v_1$ sent to the next iteration).</li>    \n",
    "\n",
    "<b>Iteration</b> $k=K$:\n",
    "\n",
    "Sampling (starting with $\\mathbf v\\_{K-1}$)\n",
    "\n",
    "$$\\mathbf v\\_{K-1} \\Rightarrow p(\\mathbf h\\_{K-1}|\\mathbf v\\_{K-1})\\Rightarrow \\mathbf h\\_{K-1}\\Rightarrow p(\\mathbf v_K|\\mathbf h\\_{K-1})\\Rightarrow \\mathbf v_K$$\n",
    "\n",
    "followed by the CD-k step\n",
    "$$\\Delta \\mathbf W_K =\\mathbf v_K \\otimes \\mathbf h_K - \\mathbf v\\_{K-1} \\otimes \\mathbf h\\_{K-1}$$\\\n",
    "$$\\mathbf W_K = \\mathbf W\\_{K-1} + \\alpha \\* \\Delta \\mathbf W_K$$\n",
    "\n",
    "<b>What is $\\alpha$?</b>\\\n",
    "Here, alpha is some small step size, and is also known as the \"learning rate\".\n"
   ]
  },
  {
   "cell_type": "markdown",
   "metadata": {},
   "source": [
    "$K$ is adjustable, and good performance can be achieved with $K=1$, so that we just take one set of sampling steps per image.\n"
   ]
  },
  {
   "cell_type": "code",
   "execution_count": 17,
   "metadata": {},
   "outputs": [],
   "source": [
    "h1_prob = tf.nn.sigmoid(tf.matmul([v1_state], W) + hb)\n",
    "h1_state = tf.nn.relu(tf.sign(h1_prob - tf.random.uniform(tf.shape(h1_prob)))) #sample_h_given_X"
   ]
  },
  {
   "cell_type": "markdown",
   "metadata": {},
   "source": [
    "Lets look at the error of the first run:\n"
   ]
  },
  {
   "cell_type": "code",
   "execution_count": 18,
   "metadata": {},
   "outputs": [
    {
     "name": "stdout",
     "output_type": "stream",
     "text": [
      "error:  tf.Tensor(0.53061223, shape=(), dtype=float32)\n"
     ]
    }
   ],
   "source": [
    "print(\"error: \", error(v0_state, v1_state))"
   ]
  },
  {
   "cell_type": "code",
   "execution_count": 19,
   "metadata": {},
   "outputs": [
    {
     "name": "stdout",
     "output_type": "stream",
     "text": [
      "Epoch: 0 batch #: 1  of 300 sample #: 199 reconstruction error: 0.178719\n",
      "Epoch: 0 batch #: 2  of 300 sample #: 199 reconstruction error: 0.201043\n",
      "Epoch: 0 batch #: 3  of 300 sample #: 199 reconstruction error: 0.121525\n",
      "Epoch: 0 batch #: 4  of 300 sample #: 199 reconstruction error: 0.118814\n",
      "Epoch: 0 batch #: 5  of 300 sample #: 199 reconstruction error: 0.117760\n",
      "Epoch: 0 batch #: 6  of 300 sample #: 199 reconstruction error: 0.195532\n",
      "Epoch: 0 batch #: 7  of 300 sample #: 199 reconstruction error: 0.087323\n",
      "Epoch: 0 batch #: 8  of 300 sample #: 199 reconstruction error: 0.106909\n",
      "Epoch: 0 batch #: 9  of 300 sample #: 199 reconstruction error: 0.090243\n",
      "Epoch: 0 batch #: 10  of 300 sample #: 199 reconstruction error: 0.163021\n",
      "Epoch: 0 batch #: 11  of 300 sample #: 199 reconstruction error: 0.087724\n",
      "Epoch: 0 batch #: 12  of 300 sample #: 199 reconstruction error: 0.118078\n",
      "Epoch: 0 batch #: 13  of 300 sample #: 199 reconstruction error: 0.068105\n",
      "Epoch: 0 batch #: 14  of 300 sample #: 199 reconstruction error: 0.126727\n",
      "Epoch: 0 batch #: 15  of 300 sample #: 199 reconstruction error: 0.100641\n",
      "Epoch: 0 batch #: 16  of 300 sample #: 199 reconstruction error: 0.102120\n",
      "Epoch: 0 batch #: 17  of 300 sample #: 199 reconstruction error: 0.080635\n",
      "Epoch: 0 batch #: 18  of 300 sample #: 199 reconstruction error: 0.136106\n",
      "Epoch: 0 batch #: 19  of 300 sample #: 199 reconstruction error: 0.146523\n",
      "Epoch: 0 batch #: 20  of 300 sample #: 199 reconstruction error: 0.107093\n",
      "Epoch: 0 batch #: 21  of 300 sample #: 199 reconstruction error: 0.093435\n",
      "Epoch: 0 batch #: 22  of 300 sample #: 199 reconstruction error: 0.083526\n",
      "Epoch: 0 batch #: 23  of 300 sample #: 199 reconstruction error: 0.091017\n",
      "Epoch: 0 batch #: 24  of 300 sample #: 199 reconstruction error: 0.130011\n",
      "Epoch: 0 batch #: 25  of 300 sample #: 199 reconstruction error: 0.114000\n",
      "Epoch: 0 batch #: 26  of 300 sample #: 199 reconstruction error: 0.098676\n",
      "Epoch: 0 batch #: 27  of 300 sample #: 199 reconstruction error: 0.125995\n",
      "Epoch: 0 batch #: 28  of 300 sample #: 199 reconstruction error: 0.085436\n",
      "Epoch: 0 batch #: 29  of 300 sample #: 199 reconstruction error: 0.098740\n",
      "Epoch: 0 batch #: 30  of 300 sample #: 199 reconstruction error: 0.067615\n",
      "Epoch: 0 batch #: 31  of 300 sample #: 199 reconstruction error: 0.093439\n",
      "Epoch: 0 batch #: 32  of 300 sample #: 199 reconstruction error: 0.119639\n",
      "Epoch: 0 batch #: 33  of 300 sample #: 199 reconstruction error: 0.060888\n",
      "Epoch: 0 batch #: 34  of 300 sample #: 199 reconstruction error: 0.068998\n",
      "Epoch: 0 batch #: 35  of 300 sample #: 199 reconstruction error: 0.067617\n",
      "Epoch: 0 batch #: 36  of 300 sample #: 199 reconstruction error: 0.093482\n",
      "Epoch: 0 batch #: 37  of 300 sample #: 199 reconstruction error: 0.057006\n",
      "Epoch: 0 batch #: 38  of 300 sample #: 199 reconstruction error: 0.064056\n",
      "Epoch: 0 batch #: 39  of 300 sample #: 199 reconstruction error: 0.093893\n",
      "Epoch: 0 batch #: 40  of 300 sample #: 199 reconstruction error: 0.112299\n",
      "Epoch: 0 batch #: 41  of 300 sample #: 199 reconstruction error: 0.066123\n",
      "Epoch: 0 batch #: 42  of 300 sample #: 199 reconstruction error: 0.068506\n",
      "Epoch: 0 batch #: 43  of 300 sample #: 199 reconstruction error: 0.110828\n",
      "Epoch: 0 batch #: 44  of 300 sample #: 199 reconstruction error: 0.074896\n",
      "Epoch: 0 batch #: 45  of 300 sample #: 199 reconstruction error: 0.067300\n",
      "Epoch: 0 batch #: 46  of 300 sample #: 199 reconstruction error: 0.031966\n",
      "Epoch: 0 batch #: 47  of 300 sample #: 199 reconstruction error: 0.046558\n",
      "Epoch: 0 batch #: 48  of 300 sample #: 199 reconstruction error: 0.035169\n",
      "Epoch: 0 batch #: 49  of 300 sample #: 199 reconstruction error: 0.119891\n",
      "Epoch: 0 batch #: 50  of 300 sample #: 199 reconstruction error: 0.044710\n",
      "Epoch: 0 batch #: 51  of 300 sample #: 199 reconstruction error: 0.057533\n",
      "Epoch: 0 batch #: 52  of 300 sample #: 199 reconstruction error: 0.031114\n",
      "Epoch: 0 batch #: 53  of 300 sample #: 199 reconstruction error: 0.103611\n",
      "Epoch: 0 batch #: 54  of 300 sample #: 199 reconstruction error: 0.052769\n",
      "Epoch: 0 batch #: 55  of 300 sample #: 199 reconstruction error: 0.110500\n",
      "Epoch: 0 batch #: 56  of 300 sample #: 199 reconstruction error: 0.047792\n",
      "Epoch: 0 batch #: 57  of 300 sample #: 199 reconstruction error: 0.050851\n",
      "Epoch: 0 batch #: 58  of 300 sample #: 199 reconstruction error: 0.059656\n",
      "Epoch: 0 batch #: 59  of 300 sample #: 199 reconstruction error: 0.068576\n",
      "Epoch: 0 batch #: 60  of 300 sample #: 199 reconstruction error: 0.082485\n",
      "Epoch: 0 batch #: 61  of 300 sample #: 199 reconstruction error: 0.077015\n",
      "Epoch: 0 batch #: 62  of 300 sample #: 199 reconstruction error: 0.099516\n",
      "Epoch: 0 batch #: 63  of 300 sample #: 199 reconstruction error: 0.051004\n",
      "Epoch: 0 batch #: 64  of 300 sample #: 199 reconstruction error: 0.074298\n",
      "Epoch: 0 batch #: 65  of 300 sample #: 199 reconstruction error: 0.091297\n",
      "Epoch: 0 batch #: 66  of 300 sample #: 199 reconstruction error: 0.056359\n",
      "Epoch: 0 batch #: 67  of 300 sample #: 199 reconstruction error: 0.046073\n",
      "Epoch: 0 batch #: 68  of 300 sample #: 199 reconstruction error: 0.049103\n",
      "Epoch: 0 batch #: 69  of 300 sample #: 199 reconstruction error: 0.095577\n",
      "Epoch: 0 batch #: 70  of 300 sample #: 199 reconstruction error: 0.094498\n",
      "Epoch: 0 batch #: 71  of 300 sample #: 199 reconstruction error: 0.080552\n",
      "Epoch: 0 batch #: 72  of 300 sample #: 199 reconstruction error: 0.058894\n",
      "Epoch: 0 batch #: 73  of 300 sample #: 199 reconstruction error: 0.090445\n",
      "Epoch: 0 batch #: 74  of 300 sample #: 199 reconstruction error: 0.088627\n",
      "Epoch: 0 batch #: 75  of 300 sample #: 199 reconstruction error: 0.058007\n",
      "Epoch: 0 batch #: 76  of 300 sample #: 199 reconstruction error: 0.077166\n",
      "Epoch: 0 batch #: 77  of 300 sample #: 199 reconstruction error: 0.086973\n",
      "Epoch: 0 batch #: 78  of 300 sample #: 199 reconstruction error: 0.107846\n",
      "Epoch: 0 batch #: 79  of 300 sample #: 199 reconstruction error: 0.113674\n",
      "Epoch: 0 batch #: 80  of 300 sample #: 199 reconstruction error: 0.043871\n",
      "Epoch: 0 batch #: 81  of 300 sample #: 199 reconstruction error: 0.061479\n",
      "Epoch: 0 batch #: 82  of 300 sample #: 199 reconstruction error: 0.044212\n",
      "Epoch: 0 batch #: 83  of 300 sample #: 199 reconstruction error: 0.068587\n",
      "Epoch: 0 batch #: 84  of 300 sample #: 199 reconstruction error: 0.088547\n",
      "Epoch: 0 batch #: 85  of 300 sample #: 199 reconstruction error: 0.036619\n",
      "Epoch: 0 batch #: 86  of 300 sample #: 199 reconstruction error: 0.093932\n",
      "Epoch: 0 batch #: 87  of 300 sample #: 199 reconstruction error: 0.094748\n",
      "Epoch: 0 batch #: 88  of 300 sample #: 199 reconstruction error: 0.023885\n",
      "Epoch: 0 batch #: 89  of 300 sample #: 199 reconstruction error: 0.048094\n",
      "Epoch: 0 batch #: 90  of 300 sample #: 199 reconstruction error: 0.064695\n",
      "Epoch: 0 batch #: 91  of 300 sample #: 199 reconstruction error: 0.061431\n",
      "Epoch: 0 batch #: 92  of 300 sample #: 199 reconstruction error: 0.073266\n",
      "Epoch: 0 batch #: 93  of 300 sample #: 199 reconstruction error: 0.112176\n",
      "Epoch: 0 batch #: 94  of 300 sample #: 199 reconstruction error: 0.104231\n",
      "Epoch: 0 batch #: 95  of 300 sample #: 199 reconstruction error: 0.065630\n",
      "Epoch: 0 batch #: 96  of 300 sample #: 199 reconstruction error: 0.051879\n",
      "Epoch: 0 batch #: 97  of 300 sample #: 199 reconstruction error: 0.107906\n",
      "Epoch: 0 batch #: 98  of 300 sample #: 199 reconstruction error: 0.096662\n",
      "Epoch: 0 batch #: 99  of 300 sample #: 199 reconstruction error: 0.060692\n",
      "Epoch: 0 batch #: 100  of 300 sample #: 199 reconstruction error: 0.098194\n",
      "Epoch: 0 batch #: 101  of 300 sample #: 199 reconstruction error: 0.085727\n",
      "Epoch: 0 batch #: 102  of 300 sample #: 199 reconstruction error: 0.098223\n",
      "Epoch: 0 batch #: 103  of 300 sample #: 199 reconstruction error: 0.077149\n",
      "Epoch: 0 batch #: 104  of 300 sample #: 199 reconstruction error: 0.069347\n",
      "Epoch: 0 batch #: 105  of 300 sample #: 199 reconstruction error: 0.066949\n",
      "Epoch: 0 batch #: 106  of 300 sample #: 199 reconstruction error: 0.102906\n",
      "Epoch: 0 batch #: 107  of 300 sample #: 199 reconstruction error: 0.125733\n",
      "Epoch: 0 batch #: 108  of 300 sample #: 199 reconstruction error: 0.052470\n",
      "Epoch: 0 batch #: 109  of 300 sample #: 199 reconstruction error: 0.123150\n",
      "Epoch: 0 batch #: 110  of 300 sample #: 199 reconstruction error: 0.065434\n",
      "Epoch: 0 batch #: 111  of 300 sample #: 199 reconstruction error: 0.121385\n",
      "Epoch: 0 batch #: 112  of 300 sample #: 199 reconstruction error: 0.044762\n",
      "Epoch: 0 batch #: 113  of 300 sample #: 199 reconstruction error: 0.068627\n",
      "Epoch: 0 batch #: 114  of 300 sample #: 199 reconstruction error: 0.098064\n",
      "Epoch: 0 batch #: 115  of 300 sample #: 199 reconstruction error: 0.037162\n",
      "Epoch: 0 batch #: 116  of 300 sample #: 199 reconstruction error: 0.043237\n",
      "Epoch: 0 batch #: 117  of 300 sample #: 199 reconstruction error: 0.051721\n",
      "Epoch: 0 batch #: 118  of 300 sample #: 199 reconstruction error: 0.078603\n",
      "Epoch: 0 batch #: 119  of 300 sample #: 199 reconstruction error: 0.136493\n",
      "Epoch: 0 batch #: 120  of 300 sample #: 199 reconstruction error: 0.077221\n",
      "Epoch: 0 batch #: 121  of 300 sample #: 199 reconstruction error: 0.048625\n",
      "Epoch: 0 batch #: 122  of 300 sample #: 199 reconstruction error: 0.110791\n",
      "Epoch: 0 batch #: 123  of 300 sample #: 199 reconstruction error: 0.065223\n",
      "Epoch: 0 batch #: 124  of 300 sample #: 199 reconstruction error: 0.071203\n",
      "Epoch: 0 batch #: 125  of 300 sample #: 199 reconstruction error: 0.057106\n",
      "Epoch: 0 batch #: 126  of 300 sample #: 199 reconstruction error: 0.104665\n",
      "Epoch: 0 batch #: 127  of 300 sample #: 199 reconstruction error: 0.092791\n",
      "Epoch: 0 batch #: 128  of 300 sample #: 199 reconstruction error: 0.063075\n",
      "Epoch: 0 batch #: 129  of 300 sample #: 199 reconstruction error: 0.045968\n",
      "Epoch: 0 batch #: 130  of 300 sample #: 199 reconstruction error: 0.089810\n",
      "Epoch: 0 batch #: 131  of 300 sample #: 199 reconstruction error: 0.046766\n",
      "Epoch: 0 batch #: 132  of 300 sample #: 199 reconstruction error: 0.054249\n",
      "Epoch: 0 batch #: 133  of 300 sample #: 199 reconstruction error: 0.056830\n",
      "Epoch: 0 batch #: 134  of 300 sample #: 199 reconstruction error: 0.096142\n",
      "Epoch: 0 batch #: 135  of 300 sample #: 199 reconstruction error: 0.080578\n",
      "Epoch: 0 batch #: 136  of 300 sample #: 199 reconstruction error: 0.101874\n",
      "Epoch: 0 batch #: 137  of 300 sample #: 199 reconstruction error: 0.066905\n",
      "Epoch: 0 batch #: 138  of 300 sample #: 199 reconstruction error: 0.086483\n",
      "Epoch: 0 batch #: 139  of 300 sample #: 199 reconstruction error: 0.121259\n",
      "Epoch: 0 batch #: 140  of 300 sample #: 199 reconstruction error: 0.083829\n",
      "Epoch: 0 batch #: 141  of 300 sample #: 199 reconstruction error: 0.081245\n",
      "Epoch: 0 batch #: 142  of 300 sample #: 199 reconstruction error: 0.079388\n",
      "Epoch: 0 batch #: 143  of 300 sample #: 199 reconstruction error: 0.057597\n",
      "Epoch: 0 batch #: 144  of 300 sample #: 199 reconstruction error: 0.053572\n",
      "Epoch: 0 batch #: 145  of 300 sample #: 199 reconstruction error: 0.096318\n",
      "Epoch: 0 batch #: 146  of 300 sample #: 199 reconstruction error: 0.096797\n",
      "Epoch: 0 batch #: 147  of 300 sample #: 199 reconstruction error: 0.086187\n",
      "Epoch: 0 batch #: 148  of 300 sample #: 199 reconstruction error: 0.074149\n",
      "Epoch: 0 batch #: 149  of 300 sample #: 199 reconstruction error: 0.036309\n",
      "Epoch: 0 batch #: 150  of 300 sample #: 199 reconstruction error: 0.045100\n",
      "Epoch: 0 batch #: 151  of 300 sample #: 199 reconstruction error: 0.116325\n",
      "Epoch: 0 batch #: 152  of 300 sample #: 199 reconstruction error: 0.092103\n",
      "Epoch: 0 batch #: 153  of 300 sample #: 199 reconstruction error: 0.061903\n",
      "Epoch: 0 batch #: 154  of 300 sample #: 199 reconstruction error: 0.068745\n",
      "Epoch: 0 batch #: 155  of 300 sample #: 199 reconstruction error: 0.059286\n",
      "Epoch: 0 batch #: 156  of 300 sample #: 199 reconstruction error: 0.068424\n",
      "Epoch: 0 batch #: 157  of 300 sample #: 199 reconstruction error: 0.098061\n",
      "Epoch: 0 batch #: 158  of 300 sample #: 199 reconstruction error: 0.071445\n",
      "Epoch: 0 batch #: 159  of 300 sample #: 199 reconstruction error: 0.068080\n",
      "Epoch: 0 batch #: 160  of 300 sample #: 199 reconstruction error: 0.085624\n",
      "Epoch: 0 batch #: 161  of 300 sample #: 199 reconstruction error: 0.091608\n",
      "Epoch: 0 batch #: 162  of 300 sample #: 199 reconstruction error: 0.116695\n",
      "Epoch: 0 batch #: 163  of 300 sample #: 199 reconstruction error: 0.044404\n",
      "Epoch: 0 batch #: 164  of 300 sample #: 199 reconstruction error: 0.067101\n",
      "Epoch: 0 batch #: 165  of 300 sample #: 199 reconstruction error: 0.078954\n",
      "Epoch: 0 batch #: 166  of 300 sample #: 199 reconstruction error: 0.062341\n",
      "Epoch: 0 batch #: 167  of 300 sample #: 199 reconstruction error: 0.105812\n",
      "Epoch: 0 batch #: 168  of 300 sample #: 199 reconstruction error: 0.061451\n",
      "Epoch: 0 batch #: 169  of 300 sample #: 199 reconstruction error: 0.029718\n",
      "Epoch: 0 batch #: 170  of 300 sample #: 199 reconstruction error: 0.067542\n",
      "Epoch: 0 batch #: 171  of 300 sample #: 199 reconstruction error: 0.045157\n",
      "Epoch: 0 batch #: 172  of 300 sample #: 199 reconstruction error: 0.058505\n",
      "Epoch: 0 batch #: 173  of 300 sample #: 199 reconstruction error: 0.090891\n",
      "Epoch: 0 batch #: 174  of 300 sample #: 199 reconstruction error: 0.108653\n",
      "Epoch: 0 batch #: 175  of 300 sample #: 199 reconstruction error: 0.073443\n",
      "Epoch: 0 batch #: 176  of 300 sample #: 199 reconstruction error: 0.041064\n",
      "Epoch: 0 batch #: 177  of 300 sample #: 199 reconstruction error: 0.040854\n",
      "Epoch: 0 batch #: 178  of 300 sample #: 199 reconstruction error: 0.108496\n",
      "Epoch: 0 batch #: 179  of 300 sample #: 199 reconstruction error: 0.067151\n",
      "Epoch: 0 batch #: 180  of 300 sample #: 199 reconstruction error: 0.077729\n",
      "Epoch: 0 batch #: 181  of 300 sample #: 199 reconstruction error: 0.094167\n",
      "Epoch: 0 batch #: 182  of 300 sample #: 199 reconstruction error: 0.075116\n",
      "Epoch: 0 batch #: 183  of 300 sample #: 199 reconstruction error: 0.122614\n",
      "Epoch: 0 batch #: 184  of 300 sample #: 199 reconstruction error: 0.070676\n",
      "Epoch: 0 batch #: 185  of 300 sample #: 199 reconstruction error: 0.065630\n",
      "Epoch: 0 batch #: 186  of 300 sample #: 199 reconstruction error: 0.102944\n",
      "Epoch: 0 batch #: 187  of 300 sample #: 199 reconstruction error: 0.059944\n",
      "Epoch: 0 batch #: 188  of 300 sample #: 199 reconstruction error: 0.120389\n",
      "Epoch: 0 batch #: 189  of 300 sample #: 199 reconstruction error: 0.073780\n",
      "Epoch: 0 batch #: 190  of 300 sample #: 199 reconstruction error: 0.071676\n",
      "Epoch: 0 batch #: 191  of 300 sample #: 199 reconstruction error: 0.113116\n",
      "Epoch: 0 batch #: 192  of 300 sample #: 199 reconstruction error: 0.108139\n",
      "Epoch: 0 batch #: 193  of 300 sample #: 199 reconstruction error: 0.087222\n",
      "Epoch: 0 batch #: 194  of 300 sample #: 199 reconstruction error: 0.072411\n",
      "Epoch: 0 batch #: 195  of 300 sample #: 199 reconstruction error: 0.049410\n",
      "Epoch: 0 batch #: 196  of 300 sample #: 199 reconstruction error: 0.049844\n",
      "Epoch: 0 batch #: 197  of 300 sample #: 199 reconstruction error: 0.054725\n",
      "Epoch: 0 batch #: 198  of 300 sample #: 199 reconstruction error: 0.093190\n",
      "Epoch: 0 batch #: 199  of 300 sample #: 199 reconstruction error: 0.077648\n",
      "Epoch: 0 batch #: 200  of 300 sample #: 199 reconstruction error: 0.101386\n",
      "Epoch: 0 batch #: 201  of 300 sample #: 199 reconstruction error: 0.085200\n",
      "Epoch: 0 batch #: 202  of 300 sample #: 199 reconstruction error: 0.019280\n",
      "Epoch: 0 batch #: 203  of 300 sample #: 199 reconstruction error: 0.086560\n",
      "Epoch: 0 batch #: 204  of 300 sample #: 199 reconstruction error: 0.053475\n",
      "Epoch: 0 batch #: 205  of 300 sample #: 199 reconstruction error: 0.028673\n",
      "Epoch: 0 batch #: 206  of 300 sample #: 199 reconstruction error: 0.056855\n",
      "Epoch: 0 batch #: 207  of 300 sample #: 199 reconstruction error: 0.082698\n",
      "Epoch: 0 batch #: 208  of 300 sample #: 199 reconstruction error: 0.060788\n",
      "Epoch: 0 batch #: 209  of 300 sample #: 199 reconstruction error: 0.023248\n",
      "Epoch: 0 batch #: 210  of 300 sample #: 199 reconstruction error: 0.106155\n",
      "Epoch: 0 batch #: 211  of 300 sample #: 199 reconstruction error: 0.093020\n",
      "Epoch: 0 batch #: 212  of 300 sample #: 199 reconstruction error: 0.096992\n",
      "Epoch: 0 batch #: 213  of 300 sample #: 199 reconstruction error: 0.108191\n",
      "Epoch: 0 batch #: 214  of 300 sample #: 199 reconstruction error: 0.097687\n",
      "Epoch: 0 batch #: 215  of 300 sample #: 199 reconstruction error: 0.022239\n",
      "Epoch: 0 batch #: 216  of 300 sample #: 199 reconstruction error: 0.089122\n",
      "Epoch: 0 batch #: 217  of 300 sample #: 199 reconstruction error: 0.085758\n",
      "Epoch: 0 batch #: 218  of 300 sample #: 199 reconstruction error: 0.072468\n",
      "Epoch: 0 batch #: 219  of 300 sample #: 199 reconstruction error: 0.081495\n",
      "Epoch: 0 batch #: 220  of 300 sample #: 199 reconstruction error: 0.049417\n",
      "Epoch: 0 batch #: 221  of 300 sample #: 199 reconstruction error: 0.083111\n",
      "Epoch: 0 batch #: 222  of 300 sample #: 199 reconstruction error: 0.071055\n",
      "Epoch: 0 batch #: 223  of 300 sample #: 199 reconstruction error: 0.069817\n",
      "Epoch: 0 batch #: 224  of 300 sample #: 199 reconstruction error: 0.069138\n",
      "Epoch: 0 batch #: 225  of 300 sample #: 199 reconstruction error: 0.080127\n",
      "Epoch: 0 batch #: 226  of 300 sample #: 199 reconstruction error: 0.112781\n",
      "Epoch: 0 batch #: 227  of 300 sample #: 199 reconstruction error: 0.072904\n",
      "Epoch: 0 batch #: 228  of 300 sample #: 199 reconstruction error: 0.066135\n",
      "Epoch: 0 batch #: 229  of 300 sample #: 199 reconstruction error: 0.071078\n",
      "Epoch: 0 batch #: 230  of 300 sample #: 199 reconstruction error: 0.038890\n",
      "Epoch: 0 batch #: 231  of 300 sample #: 199 reconstruction error: 0.032372\n",
      "Epoch: 0 batch #: 232  of 300 sample #: 199 reconstruction error: 0.078687\n",
      "Epoch: 0 batch #: 233  of 300 sample #: 199 reconstruction error: 0.079814\n",
      "Epoch: 0 batch #: 234  of 300 sample #: 199 reconstruction error: 0.072560\n",
      "Epoch: 0 batch #: 235  of 300 sample #: 199 reconstruction error: 0.059556\n",
      "Epoch: 0 batch #: 236  of 300 sample #: 199 reconstruction error: 0.107930\n",
      "Epoch: 0 batch #: 237  of 300 sample #: 199 reconstruction error: 0.075653\n",
      "Epoch: 0 batch #: 238  of 300 sample #: 199 reconstruction error: 0.103261\n",
      "Epoch: 0 batch #: 239  of 300 sample #: 199 reconstruction error: 0.033983\n",
      "Epoch: 0 batch #: 240  of 300 sample #: 199 reconstruction error: 0.098176\n",
      "Epoch: 0 batch #: 241  of 300 sample #: 199 reconstruction error: 0.069205\n",
      "Epoch: 0 batch #: 242  of 300 sample #: 199 reconstruction error: 0.065003\n",
      "Epoch: 0 batch #: 243  of 300 sample #: 199 reconstruction error: 0.074562\n",
      "Epoch: 0 batch #: 244  of 300 sample #: 199 reconstruction error: 0.090117\n",
      "Epoch: 0 batch #: 245  of 300 sample #: 199 reconstruction error: 0.076023\n",
      "Epoch: 0 batch #: 246  of 300 sample #: 199 reconstruction error: 0.090571\n",
      "Epoch: 0 batch #: 247  of 300 sample #: 199 reconstruction error: 0.057690\n",
      "Epoch: 0 batch #: 248  of 300 sample #: 199 reconstruction error: 0.057128\n",
      "Epoch: 0 batch #: 249  of 300 sample #: 199 reconstruction error: 0.038913\n",
      "Epoch: 0 batch #: 250  of 300 sample #: 199 reconstruction error: 0.094559\n",
      "Epoch: 0 batch #: 251  of 300 sample #: 199 reconstruction error: 0.045830\n",
      "Epoch: 0 batch #: 252  of 300 sample #: 199 reconstruction error: 0.064345\n",
      "Epoch: 0 batch #: 253  of 300 sample #: 199 reconstruction error: 0.067925\n",
      "Epoch: 0 batch #: 254  of 300 sample #: 199 reconstruction error: 0.031518\n",
      "Epoch: 0 batch #: 255  of 300 sample #: 199 reconstruction error: 0.056158\n",
      "Epoch: 0 batch #: 256  of 300 sample #: 199 reconstruction error: 0.080666\n",
      "Epoch: 0 batch #: 257  of 300 sample #: 199 reconstruction error: 0.096681\n",
      "Epoch: 0 batch #: 258  of 300 sample #: 199 reconstruction error: 0.091960\n",
      "Epoch: 0 batch #: 259  of 300 sample #: 199 reconstruction error: 0.082431\n",
      "Epoch: 0 batch #: 260  of 300 sample #: 199 reconstruction error: 0.100649\n",
      "Epoch: 0 batch #: 261  of 300 sample #: 199 reconstruction error: 0.037878\n",
      "Epoch: 0 batch #: 262  of 300 sample #: 199 reconstruction error: 0.043789\n",
      "Epoch: 0 batch #: 263  of 300 sample #: 199 reconstruction error: 0.077897\n",
      "Epoch: 0 batch #: 264  of 300 sample #: 199 reconstruction error: 0.063200\n",
      "Epoch: 0 batch #: 265  of 300 sample #: 199 reconstruction error: 0.073360\n",
      "Epoch: 0 batch #: 266  of 300 sample #: 199 reconstruction error: 0.044032\n",
      "Epoch: 0 batch #: 267  of 300 sample #: 199 reconstruction error: 0.061629\n",
      "Epoch: 0 batch #: 268  of 300 sample #: 199 reconstruction error: 0.028967\n",
      "Epoch: 0 batch #: 269  of 300 sample #: 199 reconstruction error: 0.094180\n",
      "Epoch: 0 batch #: 270  of 300 sample #: 199 reconstruction error: 0.076959\n",
      "Epoch: 0 batch #: 271  of 300 sample #: 199 reconstruction error: 0.062835\n",
      "Epoch: 0 batch #: 272  of 300 sample #: 199 reconstruction error: 0.058440\n",
      "Epoch: 0 batch #: 273  of 300 sample #: 199 reconstruction error: 0.055733\n",
      "Epoch: 0 batch #: 274  of 300 sample #: 199 reconstruction error: 0.050550\n",
      "Epoch: 0 batch #: 275  of 300 sample #: 199 reconstruction error: 0.119259\n",
      "Epoch: 0 batch #: 276  of 300 sample #: 199 reconstruction error: 0.079994\n",
      "Epoch: 0 batch #: 277  of 300 sample #: 199 reconstruction error: 0.080542\n",
      "Epoch: 0 batch #: 278  of 300 sample #: 199 reconstruction error: 0.064022\n",
      "Epoch: 0 batch #: 279  of 300 sample #: 199 reconstruction error: 0.046839\n",
      "Epoch: 0 batch #: 280  of 300 sample #: 199 reconstruction error: 0.077589\n",
      "Epoch: 0 batch #: 281  of 300 sample #: 199 reconstruction error: 0.072643\n",
      "Epoch: 0 batch #: 282  of 300 sample #: 199 reconstruction error: 0.104710\n",
      "Epoch: 0 batch #: 283  of 300 sample #: 199 reconstruction error: 0.049603\n",
      "Epoch: 0 batch #: 284  of 300 sample #: 199 reconstruction error: 0.053699\n",
      "Epoch: 0 batch #: 285  of 300 sample #: 199 reconstruction error: 0.078896\n",
      "Epoch: 0 batch #: 286  of 300 sample #: 199 reconstruction error: 0.088146\n",
      "Epoch: 0 batch #: 287  of 300 sample #: 199 reconstruction error: 0.075426\n",
      "Epoch: 0 batch #: 288  of 300 sample #: 199 reconstruction error: 0.023546\n",
      "Epoch: 0 batch #: 289  of 300 sample #: 199 reconstruction error: 0.099082\n",
      "Epoch: 0 batch #: 290  of 300 sample #: 199 reconstruction error: 0.109048\n",
      "Epoch: 0 batch #: 291  of 300 sample #: 199 reconstruction error: 0.116001\n",
      "Epoch: 0 batch #: 292  of 300 sample #: 199 reconstruction error: 0.068776\n",
      "Epoch: 0 batch #: 293  of 300 sample #: 199 reconstruction error: 0.057000\n",
      "Epoch: 0 batch #: 294  of 300 sample #: 199 reconstruction error: 0.096802\n",
      "Epoch: 0 batch #: 295  of 300 sample #: 199 reconstruction error: 0.074452\n",
      "Epoch: 0 batch #: 296  of 300 sample #: 199 reconstruction error: 0.028884\n",
      "Epoch: 0 batch #: 297  of 300 sample #: 199 reconstruction error: 0.099265\n",
      "Epoch: 0 batch #: 298  of 300 sample #: 199 reconstruction error: 0.054693\n",
      "Epoch: 0 batch #: 299  of 300 sample #: 199 reconstruction error: 0.053842\n",
      "Epoch: 0 batch #: 300  of 300 sample #: 199 reconstruction error: 0.066643\n"
     ]
    }
   ],
   "source": [
    "#Parameters\n",
    "alpha = 0.01\n",
    "epochs = 1\n",
    "batchsize = 200\n",
    "weights = []\n",
    "errors = []\n",
    "batch_number = 0\n",
    "K = 1\n",
    "\n",
    "#creating datasets\n",
    "train_ds = \\\n",
    "    tf.data.Dataset.from_tensor_slices((trX, trY)).batch(batchsize)\n",
    "\n",
    "for epoch in range(epochs):\n",
    "    for batch_x, batch_y in train_ds:\n",
    "        batch_number += 1\n",
    "        for i_sample in range(batchsize):           \n",
    "            for k in range(K):\n",
    "                v0_state = batch_x[i_sample]\n",
    "                h0_state = hidden_layer(v0_state, W, hb)\n",
    "                v1_state = reconstructed_output(h0_state, W, vb)\n",
    "                h1_state = hidden_layer(v1_state, W, hb)\n",
    "\n",
    "                delta_W = tf.matmul(tf.transpose([v0_state]), h0_state) - tf.matmul(tf.transpose([v1_state]), h1_state)\n",
    "                W = W + alpha * delta_W\n",
    "\n",
    "                vb = vb + alpha * tf.reduce_mean(v0_state - v1_state, 0)\n",
    "                hb = hb + alpha * tf.reduce_mean(h0_state - h1_state, 0) \n",
    "\n",
    "                v0_state = v1_state\n",
    "\n",
    "            if i_sample == batchsize-1:\n",
    "                err = error(batch_x[i_sample], v1_state)\n",
    "                errors.append(err)\n",
    "                weights.append(W)\n",
    "                print ( 'Epoch: %d' % epoch, \n",
    "                       \"batch #: %i \" % batch_number, \"of %i\" % int(60e3/batchsize), \n",
    "                       \"sample #: %i\" % i_sample,\n",
    "                       'reconstruction error: %f' % err)\n",
    "\n"
   ]
  },
  {
   "cell_type": "markdown",
   "metadata": {},
   "source": [
    "Let's take a look at the errors at the end of each batch:\n"
   ]
  },
  {
   "cell_type": "code",
   "execution_count": 20,
   "metadata": {},
   "outputs": [
    {
     "data": {
      "image/png": "[encoded data removed]",
      "text/plain": [
       "<Figure size 640x480 with 1 Axes>"
      ]
     },
     "metadata": {},
     "output_type": "display_data"
    }
   ],
   "source": [
    "plt.plot(errors)\n",
    "plt.xlabel(\"Batch Number\")\n",
    "plt.ylabel(\"Error\")\n",
    "plt.show()"
   ]
  },
  {
   "cell_type": "markdown",
   "metadata": {},
   "source": [
    "What is the final weight matrix $W$ after training?\n"
   ]
  },
  {
   "cell_type": "code",
   "execution_count": 21,
   "metadata": {},
   "outputs": [
    {
     "name": "stdout",
     "output_type": "stream",
     "text": [
      "[[-0.29       -0.21000002 -0.67999965 ... -0.21000002 -0.21000002\n",
      "  -0.17      ]\n",
      " [-0.28       -0.27       -0.6099997  ... -0.21000002 -0.30999997\n",
      "  -0.18      ]\n",
      " [-0.24000004 -0.21000002 -0.65999967 ... -0.26000002 -0.29999998\n",
      "  -0.14999999]\n",
      " ...\n",
      " [-0.24000004 -0.17       -0.66999966 ... -0.25000003 -0.26000002\n",
      "  -0.14999999]\n",
      " [-0.23000003 -0.21000002 -0.58999974 ... -0.24000004 -0.23000003\n",
      "  -0.16      ]\n",
      " [-0.21000002 -0.17       -0.67999965 ... -0.19000001 -0.29\n",
      "  -0.13999999]]\n"
     ]
    }
   ],
   "source": [
    "print(W.numpy()) # a weight matrix of shape (50,784)"
   ]
  },
  {
   "cell_type": "markdown",
   "metadata": {},
   "source": [
    "<a id=\"ref5\"></a>\n",
    "\n",
    "<h3>Learned features</h3> \n"
   ]
  },
  {
   "cell_type": "markdown",
   "metadata": {},
   "source": [
    "We can take each hidden unit and visualize the connections between that hidden unit and each element in the input vector. In our case, we have 50 hidden units. Lets visualize those.\n"
   ]
  },
  {
   "cell_type": "markdown",
   "metadata": {},
   "source": [
    "Let's plot the current weights: <b>tile_raster_images</b> helps in generating an easy to grasp image from a set of samples or weights. It transforms the <b>uw</b> (with one flattened image per row of size 784), into an array (of size $28\\times28$) in which images are reshaped and laid out like tiles on a floor.\n"
   ]
  },
  {
   "cell_type": "code",
   "execution_count": 22,
   "metadata": {},
   "outputs": [
    {
     "data": {
      "image/png": "[encoded data removed]",
      "text/plain": [
       "<Figure size 1800x1800 with 1 Axes>"
      ]
     },
     "metadata": {},
     "output_type": "display_data"
    }
   ],
   "source": [
    "tile_raster_images(X=W.numpy().T, img_shape=(28, 28), tile_shape=(5, 10), tile_spacing=(1, 1))\n",
    "import matplotlib.pyplot as plt\n",
    "from PIL import Image\n",
    "%matplotlib inline\n",
    "image = Image.fromarray(tile_raster_images(X=W.numpy().T, img_shape=(28, 28) ,tile_shape=(5, 10), tile_spacing=(1, 1)))\n",
    "### Plot image\n",
    "plt.rcParams['figure.figsize'] = (18.0, 18.0)\n",
    "imgplot = plt.imshow(image)\n",
    "imgplot.set_cmap('gray')  "
   ]
  },
  {
   "cell_type": "markdown",
   "metadata": {},
   "source": [
    "Each tile in the above visualization corresponds to a vector of connections between a hidden unit and visible layer's units.\n"
   ]
  },
  {
   "cell_type": "markdown",
   "metadata": {},
   "source": [
    "Let's look at one of the learned weights corresponding to one of hidden units for example. In this particular square, the gray color represents weight = 0, and the whiter it is, the more positive the weights are (closer to 1). Conversely, the darker pixels are, the more negative the weights. The positive pixels will increase the probability of activation in hidden units (after multiplying by input/visible pixels), and negative pixels will decrease the probability of a unit hidden to be 1 (activated). So, why is this important?  So we can see that this specific square (hidden unit) can detect a feature (e.g. a \"/\" shape) and if it exists in the input.\n"
   ]
  },
  {
   "cell_type": "code",
   "execution_count": 23,
   "metadata": {},
   "outputs": [
    {
     "data": {
      "image/png": "[encoded data removed]",
      "text/plain": [
       "<Figure size 400x400 with 1 Axes>"
      ]
     },
     "metadata": {},
     "output_type": "display_data"
    }
   ],
   "source": [
    "from PIL import Image\n",
    "image = Image.fromarray(tile_raster_images(X =W.numpy().T[10:11], img_shape=(28, 28),tile_shape=(1, 1), tile_spacing=(1, 1)))\n",
    "### Plot image\n",
    "plt.rcParams['figure.figsize'] = (4.0, 4.0)\n",
    "imgplot = plt.imshow(image)\n",
    "imgplot.set_cmap('gray')  "
   ]
  },
  {
   "cell_type": "markdown",
   "metadata": {},
   "source": [
    "Let's look at the reconstruction of an image now. Imagine that we have a destructed image of figure 3. Lets see if our trained network can fix it:\n",
    "\n",
    "First we plot the image:\n"
   ]
  },
  {
   "cell_type": "code",
   "execution_count": 24,
   "metadata": {},
   "outputs": [
    {
     "name": "stdout",
     "output_type": "stream",
     "text": [
      "--2022-09-24 14:47:54--  https://ibm.box.com/shared/static/vvm1b63uvuxq88vbw9znpwu5ol380mco.jpg\n",
      "Resolving ibm.box.com (ibm.box.com)... 74.112.186.144\n",
      "Connecting to ibm.box.com (ibm.box.com)|74.112.186.144|:443... connected.\n",
      "HTTP request sent, awaiting response... 301 Moved Permanently\n",
      "Location: /public/static/vvm1b63uvuxq88vbw9znpwu5ol380mco.jpg [following]\n",
      "--2022-09-24 14:47:54--  https://ibm.box.com/public/static/vvm1b63uvuxq88vbw9znpwu5ol380mco.jpg\n",
      "Reusing existing connection to ibm.box.com:443.\n",
      "HTTP request sent, awaiting response... 301 Moved Permanently\n",
      "Location: https://ibm.ent.box.com/public/static/vvm1b63uvuxq88vbw9znpwu5ol380mco.jpg [following]\n",
      "--2022-09-24 14:47:54--  https://ibm.ent.box.com/public/static/vvm1b63uvuxq88vbw9znpwu5ol380mco.jpg\n",
      "Resolving ibm.ent.box.com (ibm.ent.box.com)... 74.112.186.144\n",
      "Connecting to ibm.ent.box.com (ibm.ent.box.com)|74.112.186.144|:443... connected.\n",
      "HTTP request sent, awaiting response... 302 Found\n",
      "Location: https://dl2.boxcloud.com/d/1/b1!XEqb5Fdj5C17ZuWbKOmIOlkr0jSDLjQUoTHGPSlvRYBABY__NWocIowh67ECQ3Ag4uD7k40xKs3jksrs-E9w0CiLlorSXe6gF4n0-vjZzi12YZNA3iPoz8c6oOr9p-sZv21iOI6Ug4E_XECrbrNdFXffU17qVNEmSbCWKLwrDjuAfTt-zz2CwP4adFWSo2R3F-K7NIxSVzk2c3Hlkj0YSEpgJRTuZELkPHy_c2OaalCdLOHk4Q_N2hdbJQSknk4HSsYYSabX-ECqUjETvsW1Aro2rSOXQzbfZd30Ml0ny_1DKeDK1XrFg2zHvooJphlxB8YbRgv4-z6Au3wQIpLd3eFd-oNQRXzAQOQq919qf6Gk_mcJ_P0c_ci2JWdXth2LHpJIKSJ2ZlE7JZ18VsKAK4oHmzIwbQgvosM1KwPnC-48joNFEi6HtDcOcFTyfuA4XRDb4TgYrU7fn8vFm7_Uf0GHBJXd6nH1fgiPtRESvKl_I-6UjMICKHZ6ru24iIIibjNu7jXzhXgg3bSpKBIkqfjY3M76RPamBRKqQ5F9-iv2Ly4VWNROs1UDXDZHIkdLAHfQUwNOx059sdkjoDxuXshHAeoiDybmZ-Fu_p4lG866YztIfuZBiErZdcrVMR8WqgbEEiIBeUMjYWh-v_SBZ9uE25zcMc7EtMrRi-qU-DWFIRF7iUUOVQw9VqClEPObX5kAkmjHPseH74TGO20a6Z-h-ndM_vo2U5ejUpdsW98TnqMtgkWjKfUNKr1a7U2AGBMSbtPzemj0iG_krYH1Zsp8RlaBR6KpztbPeIlloIh4E57XdnJYtHCDmvfwYLseMLkT9s7HgzNeu3w4tHxpsC2af55q3GwpuM58crMA4jrXo3Dg1f8g4mTuu77yWOaIixxsry9QsZ2nVoug3aqZosFUJp6zdbF4QrHmndGRxCN5mJPhr--tS9w1Xo01ztmY803lxHRoafS-keMmAkQW_NppE67_KHsJhZYsw2Q4Kgf7FwyD6aK18K32BJMGlboAfAaqLEf4hVATNFQKi4PLCv8IpGQ3YI62hMAJh6SobVeRrUthU1Uu1UQ1djfM2ChQefrZLFChVqv1G6_2rsNKBCBuOVl_0p-512BuXv2WFjbupGBVJCkP0gvkXzO4wCckt21p4jKNbLmMUq-9fERDbWoiAA6Rorfc4Pdv6EAlczGsPpg8uXc1zwlj-uKzNgiqmfBTjg1KQD0_G23W2K2ehkoaS73EeCgdI-_eC0omLt2eSXPsJbhNrxvse1eyJ1_1ALz5KO-1xmwmU_F8cMliYCwZnneOuWk-7_AFhFCaPY_BVuwFcFQRfKOpfNmyfO3F0fuwjBv-ET8ftKrqe0rtRR8HWmDnbsebFIcdVbUj1rSbpeEeyNR_KZMMZw4dq9S3gXYUxZMcHNcGe4ZNkoJmxJiMLc7SfA1bc_-576DxumBzHeCGijLt-i_o6Q9E/download [following]\n",
      "--2022-09-24 14:47:55--  https://dl2.boxcloud.com/d/1/b1!XEqb5Fdj5C17ZuWbKOmIOlkr0jSDLjQUoTHGPSlvRYBABY__NWocIowh67ECQ3Ag4uD7k40xKs3jksrs-E9w0CiLlorSXe6gF4n0-vjZzi12YZNA3iPoz8c6oOr9p-sZv21iOI6Ug4E_XECrbrNdFXffU17qVNEmSbCWKLwrDjuAfTt-zz2CwP4adFWSo2R3F-K7NIxSVzk2c3Hlkj0YSEpgJRTuZELkPHy_c2OaalCdLOHk4Q_N2hdbJQSknk4HSsYYSabX-ECqUjETvsW1Aro2rSOXQzbfZd30Ml0ny_1DKeDK1XrFg2zHvooJphlxB8YbRgv4-z6Au3wQIpLd3eFd-oNQRXzAQOQq919qf6Gk_mcJ_P0c_ci2JWdXth2LHpJIKSJ2ZlE7JZ18VsKAK4oHmzIwbQgvosM1KwPnC-48joNFEi6HtDcOcFTyfuA4XRDb4TgYrU7fn8vFm7_Uf0GHBJXd6nH1fgiPtRESvKl_I-6UjMICKHZ6ru24iIIibjNu7jXzhXgg3bSpKBIkqfjY3M76RPamBRKqQ5F9-iv2Ly4VWNROs1UDXDZHIkdLAHfQUwNOx059sdkjoDxuXshHAeoiDybmZ-Fu_p4lG866YztIfuZBiErZdcrVMR8WqgbEEiIBeUMjYWh-v_SBZ9uE25zcMc7EtMrRi-qU-DWFIRF7iUUOVQw9VqClEPObX5kAkmjHPseH74TGO20a6Z-h-ndM_vo2U5ejUpdsW98TnqMtgkWjKfUNKr1a7U2AGBMSbtPzemj0iG_krYH1Zsp8RlaBR6KpztbPeIlloIh4E57XdnJYtHCDmvfwYLseMLkT9s7HgzNeu3w4tHxpsC2af55q3GwpuM58crMA4jrXo3Dg1f8g4mTuu77yWOaIixxsry9QsZ2nVoug3aqZosFUJp6zdbF4QrHmndGRxCN5mJPhr--tS9w1Xo01ztmY803lxHRoafS-keMmAkQW_NppE67_KHsJhZYsw2Q4Kgf7FwyD6aK18K32BJMGlboAfAaqLEf4hVATNFQKi4PLCv8IpGQ3YI62hMAJh6SobVeRrUthU1Uu1UQ1djfM2ChQefrZLFChVqv1G6_2rsNKBCBuOVl_0p-512BuXv2WFjbupGBVJCkP0gvkXzO4wCckt21p4jKNbLmMUq-9fERDbWoiAA6Rorfc4Pdv6EAlczGsPpg8uXc1zwlj-uKzNgiqmfBTjg1KQD0_G23W2K2ehkoaS73EeCgdI-_eC0omLt2eSXPsJbhNrxvse1eyJ1_1ALz5KO-1xmwmU_F8cMliYCwZnneOuWk-7_AFhFCaPY_BVuwFcFQRfKOpfNmyfO3F0fuwjBv-ET8ftKrqe0rtRR8HWmDnbsebFIcdVbUj1rSbpeEeyNR_KZMMZw4dq9S3gXYUxZMcHNcGe4ZNkoJmxJiMLc7SfA1bc_-576DxumBzHeCGijLt-i_o6Q9E/download\n",
      "Resolving dl2.boxcloud.com (dl2.boxcloud.com)... 74.112.186.128\n",
      "Connecting to dl2.boxcloud.com (dl2.boxcloud.com)|74.112.186.128|:443... connected.\n",
      "HTTP request sent, awaiting response... 200 OK\n",
      "Length: 24383 (24K) [image/jpeg]\n",
      "Saving to: ‘destructed3.jpg’\n",
      "\n",
      "destructed3.jpg     100%[===================>]  23.81K  --.-KB/s    in 0.002s  \n",
      "\n",
      "2022-09-24 14:47:55 (11.4 MB/s) - ‘destructed3.jpg’ saved [24383/24383]\n",
      "\n"
     ]
    },
    {
     "data": {
      "image/png": "[encoded data removed]",
      "text/plain": [
       "<PIL.JpegImagePlugin.JpegImageFile image mode=RGB size=181x181 at 0x7FB6C4352FD0>"
      ]
     },
     "execution_count": 24,
     "metadata": {},
     "output_type": "execute_result"
    }
   ],
   "source": [
    "!wget -O destructed3.jpg  https://ibm.box.com/shared/static/vvm1b63uvuxq88vbw9znpwu5ol380mco.jpg\n",
    "img = Image.open('destructed3.jpg')\n",
    "img"
   ]
  },
  {
   "cell_type": "markdown",
   "metadata": {},
   "source": [
    "Now let's pass this image through the neural net:\n"
   ]
  },
  {
   "cell_type": "code",
   "execution_count": 25,
   "metadata": {},
   "outputs": [],
   "source": [
    "# convert the image to a 1d numpy array\n",
    "sample_case = np.array(img.convert('I').resize((28,28))).ravel().reshape((1, -1))/255.0\n",
    "\n",
    "sample_case = tf.cast(sample_case, dtype=tf.float32)"
   ]
  },
  {
   "cell_type": "markdown",
   "metadata": {},
   "source": [
    "Feed the sample case into the network and reconstruct the output:\n"
   ]
  },
  {
   "cell_type": "code",
   "execution_count": 26,
   "metadata": {},
   "outputs": [
    {
     "name": "stdout",
     "output_type": "stream",
     "text": [
      "Probability nodes in hidden layer: tf.Tensor(\n",
      "[[4.23548609e-01 1.37014716e-12 1.00000000e+00 9.99691248e-01\n",
      "  5.09092212e-03 9.30543303e-01 6.82437658e-01 7.96215431e-07\n",
      "  9.19961214e-01 1.00000000e+00 6.82534278e-08 2.09154449e-09\n",
      "  9.99725819e-01 9.99997973e-01 7.24576649e-11 9.97525454e-01\n",
      "  4.44305535e-08 1.83346256e-05 1.00000000e+00 1.27088839e-10\n",
      "  6.54548407e-04 5.23140362e-20 2.07311898e-01 3.34358545e-13\n",
      "  9.99987125e-01 6.41761395e-16 9.99975145e-01 2.29368857e-09\n",
      "  2.50252327e-07 1.85357771e-06 1.61623031e-01 1.37355665e-12\n",
      "  9.99649525e-01 4.02615458e-01 1.68386555e-10 7.98875153e-01\n",
      "  8.66496563e-02 9.99652326e-01 5.66946756e-09 1.15289154e-07\n",
      "  7.58879742e-06 2.65190560e-12 3.60920012e-06 1.00000000e+00\n",
      "  6.06176496e-01 4.97102737e-04 1.00000000e+00 9.99964833e-01\n",
      "  1.88370038e-07 9.02157322e-16]], shape=(1, 50), dtype=float32)\n",
      "activated nodes in hidden layer: tf.Tensor(\n",
      "[[0. 0. 1. 1. 0. 1. 1. 0. 1. 1. 0. 0. 1. 1. 0. 1. 0. 0. 1. 0. 0. 0. 0. 0.\n",
      "  1. 0. 1. 0. 0. 0. 0. 0. 1. 0. 0. 1. 0. 1. 0. 0. 0. 0. 0. 1. 1. 0. 1. 1.\n",
      "  0. 0.]], shape=(1, 50), dtype=float32)\n",
      "tf.Tensor(\n",
      "[[5.78243562e-05 1.35302544e-04 1.13002738e-04 7.06268765e-05\n",
      "  1.04314480e-04 1.95860863e-04 1.58816576e-04 8.12401995e-05\n",
      "  1.06421823e-04 1.60396099e-04 1.21196324e-04 9.43876075e-05\n",
      "  1.50948763e-04 1.09383836e-04 9.80205587e-05 9.85176302e-05\n",
      "  1.39355659e-04 7.65091827e-05 1.63584948e-04 1.22414160e-04\n",
      "  8.20566929e-05 1.22414160e-04 1.02249061e-04 9.72622074e-05\n",
      "  1.39355659e-04 1.14138238e-04 1.07491403e-04 1.42216682e-04\n",
      "  8.54055688e-05 1.39415264e-04 8.20568530e-05 1.02248872e-04\n",
      "  1.48653984e-04 8.41422880e-05 8.58656931e-05 1.07226224e-04\n",
      "  1.74969435e-04 1.19999757e-04 1.78843737e-04 2.41100788e-04\n",
      "  3.62306833e-04 2.20745802e-04 1.95324421e-04 2.83211470e-04\n",
      "  4.77015972e-04 3.57657671e-04 1.45167112e-04 2.52276659e-04\n",
      "  1.74432993e-04 8.73875542e-05 1.31756067e-04 1.12666356e-04\n",
      "  8.20566929e-05 1.99735165e-04 8.45557515e-05 1.18796423e-04\n",
      "  1.24901533e-04 1.54048204e-04 1.19403405e-04 1.15842820e-04\n",
      "  8.68137431e-05 1.79052353e-04 9.92622881e-05 2.46733427e-04\n",
      "  1.48683786e-04 1.39325857e-04 1.20575627e-04 1.23858452e-04\n",
      "  7.82269490e-05 1.56313181e-04 2.88605690e-04 7.08401203e-04\n",
      "  3.73393297e-04 1.77979469e-04 1.41620636e-04 5.41908739e-05\n",
      "  6.17093465e-05 8.68717179e-05 3.89605761e-04 2.15739012e-04\n",
      "  1.47134066e-04 1.52438879e-04 1.45107508e-04 1.18796423e-04\n",
      "  9.53362469e-05 1.23679638e-04 6.47053821e-05 1.31100416e-04\n",
      "  1.04200139e-04 9.15085693e-05 2.35587358e-04 1.91479921e-04\n",
      "  1.76340342e-04 1.85310841e-04 2.12788582e-04 3.30567360e-04\n",
      "  8.99016857e-04 1.90401077e-03 3.04770470e-03 8.34846497e-03\n",
      "  2.85559893e-03 3.87424231e-03 1.73324347e-03 4.39614058e-04\n",
      "  2.33650208e-04 1.52349472e-04 2.84940004e-04 2.92152166e-04\n",
      "  1.70916319e-04 1.40279531e-04 7.03726037e-05 5.66794370e-05\n",
      "  1.30027533e-04 1.49667263e-04 9.23591797e-05 2.04831362e-04\n",
      "  1.86920166e-04 2.95072794e-04 2.30461359e-04 1.64091587e-04\n",
      "  1.24245882e-04 4.49895859e-04 1.17439032e-03 2.90209055e-03\n",
      "  6.14511967e-03 9.09647346e-03 1.12740993e-02 3.78335118e-02\n",
      "  4.12536860e-02 2.71228552e-02 1.48200691e-02 6.73997402e-03\n",
      "  6.94993138e-03 4.97865677e-03 3.45000625e-03 4.14448977e-03\n",
      "  3.33970785e-03 6.25491142e-04 1.20287346e-04 2.44259834e-04\n",
      "  1.37984753e-04 1.03276710e-04 9.74876821e-05 2.13831663e-04\n",
      "  2.86608934e-04 5.18351793e-04 5.04344702e-04 6.90191984e-04\n",
      "  2.22122669e-03 8.26442242e-03 3.44299078e-02 8.72102976e-02\n",
      "  1.55379653e-01 3.40723991e-01 6.26775980e-01 7.57438779e-01\n",
      "  6.71053588e-01 6.27898574e-01 5.26686788e-01 3.49992156e-01\n",
      "  1.41197830e-01 8.00915956e-02 4.87341285e-02 1.47688389e-02\n",
      "  1.20526552e-03 1.55365467e-03 2.88367271e-04 1.18861470e-04\n",
      "  8.45557515e-05 1.18377975e-04 1.17900723e-04 3.20941210e-04\n",
      "  8.40932131e-04 8.46087933e-04 4.59271669e-03 6.04623556e-03\n",
      "  1.79182291e-02 7.54045546e-02 1.91714942e-01 4.70404178e-01\n",
      "  6.18632495e-01 7.64390230e-01 8.18044662e-01 8.43965113e-01\n",
      "  6.15656853e-01 7.09367096e-01 7.09548235e-01 7.12195814e-01\n",
      "  7.76119232e-01 4.35957134e-01 1.46082669e-01 2.41037011e-02\n",
      "  4.38487530e-03 1.70519948e-03 4.32968140e-04 1.24961138e-04\n",
      "  1.13749651e-04 1.26510859e-04 2.37077475e-04 5.68032265e-04\n",
      "  1.82116032e-03 5.44306636e-03 1.22018456e-02 3.07945609e-02\n",
      "  1.01945311e-01 3.07756633e-01 4.71081316e-01 5.17070234e-01\n",
      "  7.95610785e-01 8.64162207e-01 7.79539347e-01 8.03176403e-01\n",
      "  6.54791832e-01 4.47278380e-01 5.41687727e-01 9.11429524e-01\n",
      "  9.17751849e-01 6.44064188e-01 2.42705405e-01 5.84640801e-02\n",
      "  4.80315089e-03 7.89552927e-04 7.13139772e-04 1.74969435e-04\n",
      "  1.45345926e-04 1.54972076e-04 2.89350748e-04 7.70300627e-04\n",
      "  2.27037072e-03 5.40828705e-03 1.53912902e-02 3.36679816e-02\n",
      "  1.92214429e-01 4.63268131e-01 4.73348081e-01 7.49312043e-01\n",
      "  8.48515034e-01 7.67107368e-01 7.05844283e-01 3.90531778e-01\n",
      "  2.52163947e-01 8.25828910e-02 1.81842536e-01 7.72587061e-01\n",
      "  9.43192303e-01 8.04514527e-01 2.55960375e-01 3.06502283e-02\n",
      "  4.64376807e-03 9.96112823e-04 4.84585762e-04 1.39206648e-04\n",
      "  1.21911100e-04 1.47134066e-04 2.78532505e-04 1.26999617e-03\n",
      "  3.74168158e-03 1.10740960e-02 2.38336921e-02 1.24366581e-01\n",
      "  1.54587269e-01 2.36310124e-01 2.17752486e-01 3.78280848e-01\n",
      "  6.02661371e-01 3.38058233e-01 1.08005106e-01 6.14562631e-02\n",
      "  3.49775255e-02 3.99355590e-02 1.71338707e-01 7.92417943e-01\n",
      "  9.44715977e-01 6.39847636e-01 2.03236997e-01 2.15309560e-02\n",
      "  2.57775187e-03 5.44577837e-04 3.35574150e-04 2.33113766e-04\n",
      "  1.09671499e-04 1.81168318e-04 4.47481871e-04 1.42309070e-03\n",
      "  3.93131375e-03 2.66029835e-02 2.31573284e-02 3.55474055e-02\n",
      "  4.65938449e-02 7.45376050e-02 9.17260349e-02 1.60109669e-01\n",
      "  2.25310147e-01 2.41394460e-01 9.70034003e-02 5.08605242e-02\n",
      "  5.13480604e-02 1.07599705e-01 4.80907917e-01 7.84000754e-01\n",
      "  9.30753469e-01 5.51568866e-01 4.39459085e-02 6.79045916e-03\n",
      "  1.45953894e-03 9.40263271e-04 2.06410885e-04 1.68383121e-04\n",
      "  1.28060579e-04 2.67028809e-04 6.26891851e-04 1.93321705e-03\n",
      "  4.94775176e-03 1.30193830e-02 1.77575946e-02 8.44645500e-03\n",
      "  1.62602365e-02 8.40562582e-03 2.83910334e-02 1.48060799e-01\n",
      "  2.07197607e-01 1.81265354e-01 1.19138092e-01 7.64032900e-02\n",
      "  1.77557230e-01 3.67665201e-01 7.23886728e-01 8.43744278e-01\n",
      "  5.50758660e-01 1.63371533e-01 8.00174475e-03 2.43988633e-03\n",
      "  3.71843576e-04 4.25219536e-04 1.72734261e-04 1.83969736e-04\n",
      "  1.00016201e-04 1.50710344e-04 6.00636005e-04 7.67707825e-04\n",
      "  1.68317556e-03 3.80340219e-03 5.56141138e-03 5.14999032e-03\n",
      "  9.12916660e-03 6.41489029e-03 4.80436087e-02 3.05587649e-01\n",
      "  5.35588145e-01 6.31151915e-01 5.08923233e-01 3.84348333e-01\n",
      "  4.44775552e-01 5.36185861e-01 7.04096437e-01 6.91289783e-01\n",
      "  1.95153534e-01 2.61278749e-02 2.72181630e-03 2.45809555e-04\n",
      "  2.67207623e-04 4.73678112e-04 1.55538321e-04 9.63890488e-05\n",
      "  1.07901207e-04 1.03487502e-04 4.01884317e-04 3.42577696e-04\n",
      "  1.86431408e-03 4.25019860e-03 4.14437056e-03 8.11722875e-03\n",
      "  9.18301940e-03 1.21439397e-02 1.40464455e-01 5.65799892e-01\n",
      "  6.87558830e-01 8.08025360e-01 7.97043860e-01 6.20918870e-01\n",
      "  5.20404339e-01 6.72136664e-01 4.81136829e-01 4.20512915e-01\n",
      "  1.22103572e-01 7.24038482e-03 4.53472137e-04 2.77519226e-04\n",
      "  2.72989273e-04 2.20388174e-04 2.26467848e-04 1.72048807e-04\n",
      "  1.15520677e-04 1.30116940e-04 2.01165676e-04 9.41008329e-04\n",
      "  1.85048580e-03 8.95762444e-03 6.31323457e-03 6.49672747e-03\n",
      "  2.02774405e-02 3.56117189e-02 3.16586167e-01 7.56372273e-01\n",
      "  7.28267074e-01 9.07923102e-01 7.91407824e-01 7.75782049e-01\n",
      "  8.83201003e-01 8.19070697e-01 6.88626885e-01 4.28124487e-01\n",
      "  5.29640019e-02 2.12341547e-03 3.47733498e-04 1.82479620e-04\n",
      "  8.87078641e-05 1.54018402e-04 1.74850225e-04 1.29193068e-04\n",
      "  1.16768759e-04 1.91599131e-04 1.44869089e-04 9.61065292e-04\n",
      "  6.17954135e-03 1.39751732e-02 1.17182434e-02 7.44652748e-03\n",
      "  9.35292244e-03 4.05676067e-02 8.24166238e-02 3.04157108e-01\n",
      "  3.16802740e-01 4.18089390e-01 4.08592701e-01 6.39420867e-01\n",
      "  8.73493493e-01 9.23980951e-01 7.38925278e-01 1.88085943e-01\n",
      "  1.72513425e-02 2.02053785e-03 1.10438466e-03 3.26007605e-04\n",
      "  1.13248927e-04 9.32550465e-05 1.80155039e-04 8.07828328e-05\n",
      "  9.96365343e-05 1.31398439e-04 5.77628613e-04 2.17133760e-03\n",
      "  1.50295198e-02 1.80846155e-02 3.57283950e-02 1.27599835e-02\n",
      "  1.62114501e-02 7.17917085e-03 2.13869810e-02 5.31937480e-02\n",
      "  1.00222409e-01 1.02177352e-01 1.70071483e-01 4.23074871e-01\n",
      "  8.15274477e-01 8.71077776e-01 7.67184734e-01 2.41783440e-01\n",
      "  2.02700794e-02 3.68061662e-03 9.85503197e-04 1.82449818e-04\n",
      "  7.67298479e-05 1.23127436e-04 2.87741423e-04 9.67941742e-05\n",
      "  1.37984753e-04 1.05317675e-04 3.92138958e-04 8.12274218e-03\n",
      "  5.48090339e-02 4.40511107e-02 5.77701330e-02 5.98808825e-02\n",
      "  1.31891072e-02 7.16647506e-03 9.36216116e-03 6.97058439e-03\n",
      "  1.10422373e-02 2.10607052e-02 1.54821038e-01 4.54804778e-01\n",
      "  5.18919289e-01 7.43726611e-01 7.78634608e-01 3.49685013e-01\n",
      "  5.69628775e-02 1.50462687e-02 1.42017007e-03 4.38719988e-04\n",
      "  2.01463699e-04 1.65075064e-04 1.90675259e-04 8.93839970e-05\n",
      "  1.05152481e-04 1.45792961e-04 2.18042731e-03 1.99783742e-02\n",
      "  1.73820555e-01 3.86495322e-01 2.33434021e-01 4.79575098e-02\n",
      "  2.26295590e-02 8.02454352e-03 3.45239043e-03 3.78772616e-03\n",
      "  4.27958369e-03 4.53819633e-02 1.96578801e-01 4.19381022e-01\n",
      "  4.71701056e-01 7.48867929e-01 7.19156265e-01 3.84381592e-01\n",
      "  1.13354385e-01 8.25440884e-03 2.24947929e-03 4.50551510e-04\n",
      "  1.56730413e-04 1.58518553e-04 2.03281641e-04 1.35302544e-04\n",
      "  1.04868268e-04 1.91718340e-04 1.91229582e-03 1.04586333e-01\n",
      "  2.97156006e-01 6.92878723e-01 7.27424741e-01 3.55541468e-01\n",
      "  4.51594889e-02 1.54505074e-02 6.83778524e-03 3.60044837e-03\n",
      "  3.24311256e-02 1.88642383e-01 3.83658707e-01 4.24866885e-01\n",
      "  4.39614713e-01 7.61497021e-01 7.55562425e-01 3.96401078e-01\n",
      "  7.47380555e-02 1.00694299e-02 1.27872825e-03 3.93062830e-04\n",
      "  2.35944986e-04 1.26540661e-04 1.73300505e-04 1.31428242e-04\n",
      "  6.26403707e-05 1.32501125e-04 7.08210468e-03 2.08729059e-01\n",
      "  6.57713652e-01 6.83149159e-01 6.33809090e-01 6.54891849e-01\n",
      "  1.75353974e-01 7.22033083e-02 2.10317969e-02 1.98624432e-02\n",
      "  1.28508031e-01 4.20982212e-01 6.55675471e-01 6.32900476e-01\n",
      "  7.97358632e-01 7.25741625e-01 5.26776671e-01 2.42063880e-01\n",
      "  4.87939119e-02 5.91811538e-03 1.41307712e-03 3.66359949e-04\n",
      "  2.79128551e-04 2.84790993e-04 2.02149153e-04 1.18740463e-04\n",
      "  1.06693558e-04 1.28060579e-04 2.96121836e-03 2.09305525e-01\n",
      "  5.83005011e-01 8.58609021e-01 8.70961189e-01 7.00262904e-01\n",
      "  5.58393717e-01 9.78651643e-02 4.22013104e-02 6.31451607e-02\n",
      "  3.74645054e-01 6.15762949e-01 7.80173063e-01 8.13190699e-01\n",
      "  7.80418277e-01 6.33062840e-01 1.70737952e-01 5.62527478e-02\n",
      "  1.11424625e-02 1.69298053e-03 6.47574663e-04 7.23898411e-04\n",
      "  3.83287668e-04 3.67820263e-04 1.50591135e-04 9.52578994e-05\n",
      "  1.39772892e-04 9.99889235e-05 1.04358792e-03 4.04586196e-02\n",
      "  3.76449049e-01 7.66008019e-01 8.89701486e-01 8.69295716e-01\n",
      "  5.74378490e-01 4.04186636e-01 1.93932474e-01 3.59073609e-01\n",
      "  5.25373757e-01 8.42443228e-01 8.97153735e-01 8.26055408e-01\n",
      "  4.13731486e-01 1.22394115e-01 3.99155915e-02 1.23316944e-02\n",
      "  3.80444527e-03 1.23670697e-03 7.19428062e-04 5.44965267e-04\n",
      "  4.04000282e-04 3.70055437e-04 7.86725432e-05 1.23267004e-04\n",
      "  1.10765082e-04 9.62945924e-05 3.37660313e-04 3.70654464e-03\n",
      "  1.72225267e-01 4.10805345e-01 7.43077636e-01 8.57120037e-01\n",
      "  6.89099193e-01 5.36668360e-01 4.54642683e-01 5.27441144e-01\n",
      "  7.27661669e-01 6.69122159e-01 6.92205608e-01 4.13197786e-01\n",
      "  7.59151578e-02 1.76213682e-02 8.03413987e-03 2.75757909e-03\n",
      "  4.40281630e-03 7.77810812e-04 4.05848026e-04 4.54038382e-04\n",
      "  3.22669744e-04 1.44928694e-04 1.90287828e-04 1.66922808e-04\n",
      "  1.42216682e-04 8.97843420e-05 1.34855509e-04 8.03649426e-04\n",
      "  6.07129931e-03 4.28774357e-02 1.65978283e-01 2.44260877e-01\n",
      "  3.28957319e-01 3.08159530e-01 2.62159646e-01 2.25248069e-01\n",
      "  3.05635065e-01 2.23761708e-01 1.48218840e-01 3.02799344e-02\n",
      "  5.73173165e-03 1.30996108e-03 5.29140234e-04 3.33130360e-04\n",
      "  4.06712294e-04 2.00301409e-04 2.24441290e-04 1.35332346e-04\n",
      "  1.62839890e-04 1.17103540e-04 1.35093927e-04 1.14138238e-04\n",
      "  1.23679638e-04 5.84055124e-05 1.10669629e-04 8.47782867e-05\n",
      "  7.55250454e-04 1.19236112e-03 1.90335512e-03 3.89650464e-03\n",
      "  3.04150581e-03 1.97762251e-03 3.33297253e-03 9.59566236e-03\n",
      "  1.18720531e-02 1.05687976e-02 8.45670700e-04 4.91917133e-04\n",
      "  2.68667936e-04 1.48326159e-04 8.88087598e-05 9.53897179e-05\n",
      "  2.56419182e-04 9.07368812e-05 1.49041414e-04 1.96784735e-04\n",
      "  1.73300505e-04 1.42544508e-04 1.31607056e-04 1.21196324e-04\n",
      "  7.72781277e-05 1.51008368e-04 8.37143889e-05 1.21120291e-04\n",
      "  2.39908695e-04 2.21550465e-04 4.59581614e-04 3.64959240e-04\n",
      "  2.19315290e-04 2.93880701e-04 3.97175550e-04 5.15341759e-04\n",
      "  1.67331100e-03 9.35822725e-04 2.15947628e-04 1.34646893e-04\n",
      "  1.74194574e-04 6.50825241e-05 6.50263173e-05 7.00947712e-05\n",
      "  8.04353549e-05 1.12146445e-04 1.39445066e-04 1.10860616e-04\n",
      "  1.32203102e-04 1.25855207e-04 1.28686428e-04 1.03276514e-04\n",
      "  8.97843420e-05 1.02249061e-04 9.15981509e-05 9.53362469e-05\n",
      "  1.06781503e-04 1.41650438e-04 1.82658434e-04 2.89827585e-04\n",
      "  5.11795282e-04 5.93215227e-04 1.34846568e-03 1.94796920e-03\n",
      "  8.51184130e-04 3.75509262e-04 2.66760588e-04 2.86400318e-04\n",
      "  3.69966030e-04 2.60889530e-04 2.94059515e-04 1.22519981e-04\n",
      "  1.09071123e-04 1.34199858e-04 1.08427077e-04 1.07364976e-04\n",
      "  8.88909490e-05 1.32650137e-04 1.26153231e-04 9.53364215e-05]], shape=(1, 784), dtype=float32)\n"
     ]
    }
   ],
   "source": [
    "hh0_p = tf.nn.sigmoid(tf.matmul(sample_case, W) + hb)\n",
    "hh0_s = tf.round(hh0_p)\n",
    "\n",
    "print(\"Probability nodes in hidden layer:\" ,hh0_p)\n",
    "print(\"activated nodes in hidden layer:\" ,hh0_s)\n",
    "\n",
    "# reconstruct\n",
    "vv1_p = tf.nn.sigmoid(tf.matmul(hh0_s, tf.transpose(W)) + vb)\n",
    "\n",
    "print(vv1_p)\n",
    "#rec_prob = sess.run(vv1_p, feed_dict={ hh0_s: hh0_s_val, W: prv_w, vb: prv_vb})"
   ]
  },
  {
   "cell_type": "markdown",
   "metadata": {},
   "source": [
    "Here we plot the reconstructed image:\n"
   ]
  },
  {
   "cell_type": "code",
   "execution_count": 27,
   "metadata": {},
   "outputs": [
    {
     "data": {
      "image/png": "[encoded data removed]",
      "text/plain": [
       "<Figure size 400x400 with 1 Axes>"
      ]
     },
     "metadata": {},
     "output_type": "display_data"
    }
   ],
   "source": [
    "img = Image.fromarray(tile_raster_images(X=vv1_p.numpy(), img_shape=(28, 28),tile_shape=(1, 1), tile_spacing=(1, 1)))\n",
    "plt.rcParams['figure.figsize'] = (4.0, 4.0)\n",
    "imgplot = plt.imshow(img)\n",
    "imgplot.set_cmap('gray') "
   ]
  },
  {
   "cell_type": "markdown",
   "metadata": {},
   "source": [
    "<hr>\n",
    "\n",
    "## Want to learn more?\n",
    "\n",
    "Also, you can use **Watson Studio** to run these notebooks faster with bigger datasets.**Watson Studio** is IBM’s leading cloud solution for data scientists, built by data scientists. With Jupyter notebooks, RStudio, Apache Spark and popular libraries pre-packaged in the cloud, **Watson Studio** enables data scientists to collaborate on their projects without having to install anything. Join the fast-growing community of **Watson Studio** users today with a free account at [Watson Studio](https://cocl.us/ML0120EN_DSX).This is the end of this lesson. Thank you for reading this notebook, and good luck on your studies.\n"
   ]
  },
  {
   "cell_type": "markdown",
   "metadata": {},
   "source": [
    "### Thanks for completing this lesson!\n",
    "\n",
    "Notebook created by: <a href = \"https://ca.linkedin.com/in/saeedaghabozorgi?utm_medium=Exinfluencer&utm_source=Exinfluencer&utm_content=000026UJ&utm_term=10006555&utm_id=NA-SkillsNetwork-Channel-SkillsNetworkCoursesIBMDeveloperSkillsNetworkDL0120ENSkillsNetwork20629446-2022-01-01\">Saeed Aghabozorgi</a>\n",
    "\n",
    "Updated to TF 2.X by  <a href=\"https://ca.linkedin.com/in/nilmeier?utm_medium=Exinfluencer&utm_source=Exinfluencer&utm_content=000026UJ&utm_term=10006555&utm_id=NA-SkillsNetwork-Channel-SkillsNetworkCoursesIBMDeveloperSkillsNetworkDL0120ENSkillsNetwork20629446-2022-01-01\"> Jerome Nilmeier</a><br />\n"
   ]
  },
  {
   "cell_type": "markdown",
   "metadata": {},
   "source": [
    "### References:\n",
    "\n",
    "[https://en.wikipedia.org/wiki/Restricted_Boltzmann_machine](https://en.wikipedia.org/wiki/Restricted_Boltzmann_machine?utm_medium=Exinfluencer&utm_source=Exinfluencer&utm_content=000026UJ&utm_term=10006555&utm_id=NA-SkillsNetwork-Channel-SkillsNetworkCoursesIBMDeveloperSkillsNetworkDL0120ENSkillsNetwork20629446-2022-01-01)\\\n",
    "[http://deeplearning.net/tutorial/rbm.html](http://deeplearning.net/tutorial/rbm.html?utm_medium=Exinfluencer&utm_source=Exinfluencer&utm_content=000026UJ&utm_term=10006555&utm_id=NA-SkillsNetwork-Channel-SkillsNetworkCoursesIBMDeveloperSkillsNetworkDL0120ENSkillsNetwork20629446-2022-01-01)\\\n",
    "[http://www.cs.utoronto.ca/\\~hinton/absps/netflixICML.pdf](http://www.cs.utoronto.ca/\\~hinton/absps/netflixICML.pdf?utm_medium=Exinfluencer&utm_source=Exinfluencer&utm_content=000026UJ&utm_term=10006555&utm_id=NA-SkillsNetwork-Channel-SkillsNetworkCoursesIBMDeveloperSkillsNetworkDL0120ENSkillsNetwork20629446-2022-01-01)<br>\n",
    "<http://imonad.com/rbm/restricted-boltzmann-machine/>\n"
   ]
  },
  {
   "cell_type": "markdown",
   "metadata": {},
   "source": [
    "<hr>\n",
    "\n",
    "Copyright © 2018 [Cognitive Class](https://cocl.us/DX0108EN_CC). This notebook and its source code are released under the terms of the [MIT License](https://bigdatauniversity.com/mit-license/?utm_medium=Exinfluencer&utm_source=Exinfluencer&utm_content=000026UJ&utm_term=10006555&utm_id=NA-SkillsNetwork-Channel-SkillsNetworkCoursesIBMDeveloperSkillsNetworkDL0120ENSkillsNetwork20629446-2022-01-01).\n"
   ]
  }
 ],
 "metadata": {
  "kernelspec": {
   "display_name": "Python",
   "language": "python",
   "name": "conda-env-python-py"
  },
  "language_info": {
   "codemirror_mode": {
    "name": "ipython",
    "version": 3
   },
   "file_extension": ".py",
   "mimetype": "text/x-python",
   "name": "python",
   "nbconvert_exporter": "python",
   "pygments_lexer": "ipython3",
   "version": "3.7.12"
  },
  "widgets": {
   "state": {},
   "version": "1.1.2"
  }
 },
 "nbformat": 4,
 "nbformat_minor": 4
}
